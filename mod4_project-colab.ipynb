{
  "nbformat": 4,
  "nbformat_minor": 0,
  "metadata": {
    "colab": {
      "name": "mod4-project.ipynb",
      "provenance": [],
      "include_colab_link": true
    },
    "kernelspec": {
      "display_name": "Python [conda env:learn-env] *",
      "language": "python",
      "name": "conda-env-learn-env-py"
    },
    "language_info": {
      "codemirror_mode": {
        "name": "ipython",
        "version": 3
      },
      "file_extension": ".py",
      "mimetype": "text/x-python",
      "name": "python",
      "nbconvert_exporter": "python",
      "pygments_lexer": "ipython3",
      "version": "3.6.9"
    }
  },
  "cells": [
    {
      "cell_type": "markdown",
      "metadata": {
        "id": "view-in-github",
        "colab_type": "text"
      },
      "source": [
        "<a href=\"https://colab.research.google.com/github/JonahFlateman/dsc-project-template/blob/master/mod4_project-colab.ipynb\" target=\"_parent\"><img src=\"https://colab.research.google.com/assets/colab-badge.svg\" alt=\"Open In Colab\"/></a>"
      ]
    },
    {
      "cell_type": "markdown",
      "metadata": {
        "id": "7j3uL62CknKz"
      },
      "source": [
        "Importing and inspecting the ratings DataFrame."
      ]
    },
    {
      "cell_type": "code",
      "metadata": {
        "id": "sKtTvovc2AND"
      },
      "source": [
        "import numpy as np"
      ],
      "execution_count": 1,
      "outputs": []
    },
    {
      "cell_type": "code",
      "metadata": {
        "colab": {
          "base_uri": "https://localhost:8080/"
        },
        "id": "iX_O3offknK1",
        "outputId": "eec487a4-921f-4688-c244-639d0d984f77"
      },
      "source": [
        "import pandas as pd\n",
        "df = pd.read_csv('/content/ratings.csv')\n",
        "df.info()"
      ],
      "execution_count": 2,
      "outputs": [
        {
          "output_type": "stream",
          "text": [
            "<class 'pandas.core.frame.DataFrame'>\n",
            "RangeIndex: 100836 entries, 0 to 100835\n",
            "Data columns (total 4 columns):\n",
            " #   Column     Non-Null Count   Dtype  \n",
            "---  ------     --------------   -----  \n",
            " 0   userId     100836 non-null  int64  \n",
            " 1   movieId    100836 non-null  int64  \n",
            " 2   rating     100836 non-null  float64\n",
            " 3   timestamp  100836 non-null  int64  \n",
            "dtypes: float64(1), int64(3)\n",
            "memory usage: 3.1 MB\n"
          ],
          "name": "stdout"
        }
      ]
    },
    {
      "cell_type": "code",
      "metadata": {
        "colab": {
          "base_uri": "https://localhost:8080/",
          "height": 204
        },
        "id": "HIf0yuzSknK2",
        "outputId": "3afe9842-cc69-46dc-f645-52135a0715fe"
      },
      "source": [
        "df.head()"
      ],
      "execution_count": 3,
      "outputs": [
        {
          "output_type": "execute_result",
          "data": {
            "text/html": [
              "<div>\n",
              "<style scoped>\n",
              "    .dataframe tbody tr th:only-of-type {\n",
              "        vertical-align: middle;\n",
              "    }\n",
              "\n",
              "    .dataframe tbody tr th {\n",
              "        vertical-align: top;\n",
              "    }\n",
              "\n",
              "    .dataframe thead th {\n",
              "        text-align: right;\n",
              "    }\n",
              "</style>\n",
              "<table border=\"1\" class=\"dataframe\">\n",
              "  <thead>\n",
              "    <tr style=\"text-align: right;\">\n",
              "      <th></th>\n",
              "      <th>userId</th>\n",
              "      <th>movieId</th>\n",
              "      <th>rating</th>\n",
              "      <th>timestamp</th>\n",
              "    </tr>\n",
              "  </thead>\n",
              "  <tbody>\n",
              "    <tr>\n",
              "      <th>0</th>\n",
              "      <td>1</td>\n",
              "      <td>1</td>\n",
              "      <td>4.0</td>\n",
              "      <td>964982703</td>\n",
              "    </tr>\n",
              "    <tr>\n",
              "      <th>1</th>\n",
              "      <td>1</td>\n",
              "      <td>3</td>\n",
              "      <td>4.0</td>\n",
              "      <td>964981247</td>\n",
              "    </tr>\n",
              "    <tr>\n",
              "      <th>2</th>\n",
              "      <td>1</td>\n",
              "      <td>6</td>\n",
              "      <td>4.0</td>\n",
              "      <td>964982224</td>\n",
              "    </tr>\n",
              "    <tr>\n",
              "      <th>3</th>\n",
              "      <td>1</td>\n",
              "      <td>47</td>\n",
              "      <td>5.0</td>\n",
              "      <td>964983815</td>\n",
              "    </tr>\n",
              "    <tr>\n",
              "      <th>4</th>\n",
              "      <td>1</td>\n",
              "      <td>50</td>\n",
              "      <td>5.0</td>\n",
              "      <td>964982931</td>\n",
              "    </tr>\n",
              "  </tbody>\n",
              "</table>\n",
              "</div>"
            ],
            "text/plain": [
              "   userId  movieId  rating  timestamp\n",
              "0       1        1     4.0  964982703\n",
              "1       1        3     4.0  964981247\n",
              "2       1        6     4.0  964982224\n",
              "3       1       47     5.0  964983815\n",
              "4       1       50     5.0  964982931"
            ]
          },
          "metadata": {
            "tags": []
          },
          "execution_count": 3
        }
      ]
    },
    {
      "cell_type": "markdown",
      "metadata": {
        "id": "PSqo8kFo2ANF"
      },
      "source": [
        "Having a quick look at a barplot of user ratings and value counts."
      ]
    },
    {
      "cell_type": "code",
      "metadata": {
        "id": "_HZYlv-hoe_m"
      },
      "source": [
        "rating_counts = df['rating'].value_counts()\n",
        "sorted_counts = {k:v for k, v in sorted(rating_counts.items(), key=lambda x: x[1])}\n",
        "sorted_count = list(sorted_counts.items())\n",
        "x = [item[0] for item in sorted_count]\n",
        "y = [item[1] for item in sorted_count]"
      ],
      "execution_count": 4,
      "outputs": []
    },
    {
      "cell_type": "code",
      "metadata": {
        "colab": {
          "base_uri": "https://localhost:8080/",
          "height": 513
        },
        "id": "a8HhuzHipkUX",
        "outputId": "22f371fd-1dd9-4b23-c680-ddfd71c30f9d"
      },
      "source": [
        "import matplotlib.pyplot as plt\n",
        "%matplotlib inline\n",
        "import seaborn as sns\n",
        "plt.figure(figsize=(18,8))\n",
        "sns.barplot(x=x, y=y)\n",
        "plt.title('Value Counts of User Ratings')\n",
        "plt.xlabel('User Rating')\n",
        "plt.ylabel('Value Count')\n",
        "plt.show()"
      ],
      "execution_count": 5,
      "outputs": [
        {
          "output_type": "display_data",
          "data": {
            "image/png": "[encoded data removed]",
            "text/plain": [
              "<Figure size 1296x576 with 1 Axes>"
            ]
          },
          "metadata": {
            "tags": [],
            "needs_background": "light"
          }
        }
      ]
    },
    {
      "cell_type": "markdown",
      "metadata": {
        "id": "_YYl008D2ANG"
      },
      "source": [
        "Most ratings are 3, 4, or 5.  Is scaling from 0-5 the best use for this data?  Further down the line we may want to experiment with this."
      ]
    },
    {
      "cell_type": "code",
      "metadata": {
        "id": "RFDTRoz62ANH"
      },
      "source": [
        "df_movies = pd.read_csv('/content/movies.csv')"
      ],
      "execution_count": 6,
      "outputs": []
    },
    {
      "cell_type": "code",
      "metadata": {
        "id": "w9tEd91F2ANH",
        "colab": {
          "base_uri": "https://localhost:8080/",
          "height": 204
        },
        "outputId": "76d8c337-29d6-42b0-bacb-1573e4b7ca06"
      },
      "source": [
        "df_movies.head()"
      ],
      "execution_count": 7,
      "outputs": [
        {
          "output_type": "execute_result",
          "data": {
            "text/html": [
              "<div>\n",
              "<style scoped>\n",
              "    .dataframe tbody tr th:only-of-type {\n",
              "        vertical-align: middle;\n",
              "    }\n",
              "\n",
              "    .dataframe tbody tr th {\n",
              "        vertical-align: top;\n",
              "    }\n",
              "\n",
              "    .dataframe thead th {\n",
              "        text-align: right;\n",
              "    }\n",
              "</style>\n",
              "<table border=\"1\" class=\"dataframe\">\n",
              "  <thead>\n",
              "    <tr style=\"text-align: right;\">\n",
              "      <th></th>\n",
              "      <th>movieId</th>\n",
              "      <th>title</th>\n",
              "      <th>genres</th>\n",
              "    </tr>\n",
              "  </thead>\n",
              "  <tbody>\n",
              "    <tr>\n",
              "      <th>0</th>\n",
              "      <td>1</td>\n",
              "      <td>Toy Story (1995)</td>\n",
              "      <td>Adventure|Animation|Children|Comedy|Fantasy</td>\n",
              "    </tr>\n",
              "    <tr>\n",
              "      <th>1</th>\n",
              "      <td>2</td>\n",
              "      <td>Jumanji (1995)</td>\n",
              "      <td>Adventure|Children|Fantasy</td>\n",
              "    </tr>\n",
              "    <tr>\n",
              "      <th>2</th>\n",
              "      <td>3</td>\n",
              "      <td>Grumpier Old Men (1995)</td>\n",
              "      <td>Comedy|Romance</td>\n",
              "    </tr>\n",
              "    <tr>\n",
              "      <th>3</th>\n",
              "      <td>4</td>\n",
              "      <td>Waiting to Exhale (1995)</td>\n",
              "      <td>Comedy|Drama|Romance</td>\n",
              "    </tr>\n",
              "    <tr>\n",
              "      <th>4</th>\n",
              "      <td>5</td>\n",
              "      <td>Father of the Bride Part II (1995)</td>\n",
              "      <td>Comedy</td>\n",
              "    </tr>\n",
              "  </tbody>\n",
              "</table>\n",
              "</div>"
            ],
            "text/plain": [
              "   movieId  ...                                       genres\n",
              "0        1  ...  Adventure|Animation|Children|Comedy|Fantasy\n",
              "1        2  ...                   Adventure|Children|Fantasy\n",
              "2        3  ...                               Comedy|Romance\n",
              "3        4  ...                         Comedy|Drama|Romance\n",
              "4        5  ...                                       Comedy\n",
              "\n",
              "[5 rows x 3 columns]"
            ]
          },
          "metadata": {
            "tags": []
          },
          "execution_count": 7
        }
      ]
    },
    {
      "cell_type": "markdown",
      "metadata": {
        "id": "UNCb7Guv2ANI"
      },
      "source": [
        "Which genres have the best ratings?  Let's merge these two DataFrames and inspect."
      ]
    },
    {
      "cell_type": "code",
      "metadata": {
        "id": "0iPPuCVe2ANI"
      },
      "source": [
        "#Using MovieId column to merge DataFrames\n",
        "df_merged = pd.merge(df_movies,df, on=['movieId'])"
      ],
      "execution_count": 8,
      "outputs": []
    },
    {
      "cell_type": "code",
      "metadata": {
        "id": "LeNP2aRm2ANI",
        "colab": {
          "base_uri": "https://localhost:8080/",
          "height": 204
        },
        "outputId": "d731b7a7-8b09-4246-d289-b0be02234a9c"
      },
      "source": [
        "#Splitting genre column to list of genres\n",
        "df_merged['genres'] = df_merged['genres'].apply(lambda x: x.split(\"|\") if x else x)\n",
        "df_merged.head()"
      ],
      "execution_count": 9,
      "outputs": [
        {
          "output_type": "execute_result",
          "data": {
            "text/html": [
              "<div>\n",
              "<style scoped>\n",
              "    .dataframe tbody tr th:only-of-type {\n",
              "        vertical-align: middle;\n",
              "    }\n",
              "\n",
              "    .dataframe tbody tr th {\n",
              "        vertical-align: top;\n",
              "    }\n",
              "\n",
              "    .dataframe thead th {\n",
              "        text-align: right;\n",
              "    }\n",
              "</style>\n",
              "<table border=\"1\" class=\"dataframe\">\n",
              "  <thead>\n",
              "    <tr style=\"text-align: right;\">\n",
              "      <th></th>\n",
              "      <th>movieId</th>\n",
              "      <th>title</th>\n",
              "      <th>genres</th>\n",
              "      <th>userId</th>\n",
              "      <th>rating</th>\n",
              "      <th>timestamp</th>\n",
              "    </tr>\n",
              "  </thead>\n",
              "  <tbody>\n",
              "    <tr>\n",
              "      <th>0</th>\n",
              "      <td>1</td>\n",
              "      <td>Toy Story (1995)</td>\n",
              "      <td>[Adventure, Animation, Children, Comedy, Fantasy]</td>\n",
              "      <td>1</td>\n",
              "      <td>4.0</td>\n",
              "      <td>964982703</td>\n",
              "    </tr>\n",
              "    <tr>\n",
              "      <th>1</th>\n",
              "      <td>1</td>\n",
              "      <td>Toy Story (1995)</td>\n",
              "      <td>[Adventure, Animation, Children, Comedy, Fantasy]</td>\n",
              "      <td>5</td>\n",
              "      <td>4.0</td>\n",
              "      <td>847434962</td>\n",
              "    </tr>\n",
              "    <tr>\n",
              "      <th>2</th>\n",
              "      <td>1</td>\n",
              "      <td>Toy Story (1995)</td>\n",
              "      <td>[Adventure, Animation, Children, Comedy, Fantasy]</td>\n",
              "      <td>7</td>\n",
              "      <td>4.5</td>\n",
              "      <td>1106635946</td>\n",
              "    </tr>\n",
              "    <tr>\n",
              "      <th>3</th>\n",
              "      <td>1</td>\n",
              "      <td>Toy Story (1995)</td>\n",
              "      <td>[Adventure, Animation, Children, Comedy, Fantasy]</td>\n",
              "      <td>15</td>\n",
              "      <td>2.5</td>\n",
              "      <td>1510577970</td>\n",
              "    </tr>\n",
              "    <tr>\n",
              "      <th>4</th>\n",
              "      <td>1</td>\n",
              "      <td>Toy Story (1995)</td>\n",
              "      <td>[Adventure, Animation, Children, Comedy, Fantasy]</td>\n",
              "      <td>17</td>\n",
              "      <td>4.5</td>\n",
              "      <td>1305696483</td>\n",
              "    </tr>\n",
              "  </tbody>\n",
              "</table>\n",
              "</div>"
            ],
            "text/plain": [
              "   movieId             title  ... rating   timestamp\n",
              "0        1  Toy Story (1995)  ...    4.0   964982703\n",
              "1        1  Toy Story (1995)  ...    4.0   847434962\n",
              "2        1  Toy Story (1995)  ...    4.5  1106635946\n",
              "3        1  Toy Story (1995)  ...    2.5  1510577970\n",
              "4        1  Toy Story (1995)  ...    4.5  1305696483\n",
              "\n",
              "[5 rows x 6 columns]"
            ]
          },
          "metadata": {
            "tags": []
          },
          "execution_count": 9
        }
      ]
    },
    {
      "cell_type": "code",
      "metadata": {
        "id": "tvm6B8r42ANI"
      },
      "source": [
        "#Creating a set of all genres in genre column\n",
        "all_genres = set()\n",
        "for genres in df_merged['genres']:\n",
        "    if genres:\n",
        "        all_genres.update(genres)"
      ],
      "execution_count": 10,
      "outputs": []
    },
    {
      "cell_type": "code",
      "metadata": {
        "id": "4-DEmziG2ANJ"
      },
      "source": [
        "#Adding genre columns to DataFrame\n",
        "for genre in all_genres:\n",
        "    df_merged[genre] = np.zeros(shape=df_merged.shape[0])"
      ],
      "execution_count": 11,
      "outputs": []
    },
    {
      "cell_type": "code",
      "metadata": {
        "id": "_aKm-SO82ANJ",
        "colab": {
          "base_uri": "https://localhost:8080/",
          "height": 598
        },
        "outputId": "ec1e849e-aac3-4f4a-f717-d4f11af65378"
      },
      "source": [
        "#Iterate through the movies and update the genre columns to 1 if the movie contains that genre\n",
        "#This cell takes a few minutes to run\n",
        "for index, row in df_merged.iterrows():\n",
        "    if row['genres']:\n",
        "        for genre in row['genres']:\n",
        "            df_merged.loc[index, genre] = 1\n",
        "df_merged.head()"
      ],
      "execution_count": 12,
      "outputs": [
        {
          "output_type": "execute_result",
          "data": {
            "text/html": [
              "<div>\n",
              "<style scoped>\n",
              "    .dataframe tbody tr th:only-of-type {\n",
              "        vertical-align: middle;\n",
              "    }\n",
              "\n",
              "    .dataframe tbody tr th {\n",
              "        vertical-align: top;\n",
              "    }\n",
              "\n",
              "    .dataframe thead th {\n",
              "        text-align: right;\n",
              "    }\n",
              "</style>\n",
              "<table border=\"1\" class=\"dataframe\">\n",
              "  <thead>\n",
              "    <tr style=\"text-align: right;\">\n",
              "      <th></th>\n",
              "      <th>movieId</th>\n",
              "      <th>title</th>\n",
              "      <th>genres</th>\n",
              "      <th>userId</th>\n",
              "      <th>rating</th>\n",
              "      <th>timestamp</th>\n",
              "      <th>Animation</th>\n",
              "      <th>Film-Noir</th>\n",
              "      <th>Crime</th>\n",
              "      <th>Western</th>\n",
              "      <th>Fantasy</th>\n",
              "      <th>War</th>\n",
              "      <th>Drama</th>\n",
              "      <th>(no genres listed)</th>\n",
              "      <th>Horror</th>\n",
              "      <th>Sci-Fi</th>\n",
              "      <th>Musical</th>\n",
              "      <th>Comedy</th>\n",
              "      <th>Documentary</th>\n",
              "      <th>Thriller</th>\n",
              "      <th>IMAX</th>\n",
              "      <th>Adventure</th>\n",
              "      <th>Romance</th>\n",
              "      <th>Mystery</th>\n",
              "      <th>Action</th>\n",
              "      <th>Children</th>\n",
              "    </tr>\n",
              "  </thead>\n",
              "  <tbody>\n",
              "    <tr>\n",
              "      <th>0</th>\n",
              "      <td>1</td>\n",
              "      <td>Toy Story (1995)</td>\n",
              "      <td>[Adventure, Animation, Children, Comedy, Fantasy]</td>\n",
              "      <td>1</td>\n",
              "      <td>4.0</td>\n",
              "      <td>964982703</td>\n",
              "      <td>1.0</td>\n",
              "      <td>0.0</td>\n",
              "      <td>0.0</td>\n",
              "      <td>0.0</td>\n",
              "      <td>1.0</td>\n",
              "      <td>0.0</td>\n",
              "      <td>0.0</td>\n",
              "      <td>0.0</td>\n",
              "      <td>0.0</td>\n",
              "      <td>0.0</td>\n",
              "      <td>0.0</td>\n",
              "      <td>1.0</td>\n",
              "      <td>0.0</td>\n",
              "      <td>0.0</td>\n",
              "      <td>0.0</td>\n",
              "      <td>1.0</td>\n",
              "      <td>0.0</td>\n",
              "      <td>0.0</td>\n",
              "      <td>0.0</td>\n",
              "      <td>1.0</td>\n",
              "    </tr>\n",
              "    <tr>\n",
              "      <th>1</th>\n",
              "      <td>1</td>\n",
              "      <td>Toy Story (1995)</td>\n",
              "      <td>[Adventure, Animation, Children, Comedy, Fantasy]</td>\n",
              "      <td>5</td>\n",
              "      <td>4.0</td>\n",
              "      <td>847434962</td>\n",
              "      <td>1.0</td>\n",
              "      <td>0.0</td>\n",
              "      <td>0.0</td>\n",
              "      <td>0.0</td>\n",
              "      <td>1.0</td>\n",
              "      <td>0.0</td>\n",
              "      <td>0.0</td>\n",
              "      <td>0.0</td>\n",
              "      <td>0.0</td>\n",
              "      <td>0.0</td>\n",
              "      <td>0.0</td>\n",
              "      <td>1.0</td>\n",
              "      <td>0.0</td>\n",
              "      <td>0.0</td>\n",
              "      <td>0.0</td>\n",
              "      <td>1.0</td>\n",
              "      <td>0.0</td>\n",
              "      <td>0.0</td>\n",
              "      <td>0.0</td>\n",
              "      <td>1.0</td>\n",
              "    </tr>\n",
              "    <tr>\n",
              "      <th>2</th>\n",
              "      <td>1</td>\n",
              "      <td>Toy Story (1995)</td>\n",
              "      <td>[Adventure, Animation, Children, Comedy, Fantasy]</td>\n",
              "      <td>7</td>\n",
              "      <td>4.5</td>\n",
              "      <td>1106635946</td>\n",
              "      <td>1.0</td>\n",
              "      <td>0.0</td>\n",
              "      <td>0.0</td>\n",
              "      <td>0.0</td>\n",
              "      <td>1.0</td>\n",
              "      <td>0.0</td>\n",
              "      <td>0.0</td>\n",
              "      <td>0.0</td>\n",
              "      <td>0.0</td>\n",
              "      <td>0.0</td>\n",
              "      <td>0.0</td>\n",
              "      <td>1.0</td>\n",
              "      <td>0.0</td>\n",
              "      <td>0.0</td>\n",
              "      <td>0.0</td>\n",
              "      <td>1.0</td>\n",
              "      <td>0.0</td>\n",
              "      <td>0.0</td>\n",
              "      <td>0.0</td>\n",
              "      <td>1.0</td>\n",
              "    </tr>\n",
              "    <tr>\n",
              "      <th>3</th>\n",
              "      <td>1</td>\n",
              "      <td>Toy Story (1995)</td>\n",
              "      <td>[Adventure, Animation, Children, Comedy, Fantasy]</td>\n",
              "      <td>15</td>\n",
              "      <td>2.5</td>\n",
              "      <td>1510577970</td>\n",
              "      <td>1.0</td>\n",
              "      <td>0.0</td>\n",
              "      <td>0.0</td>\n",
              "      <td>0.0</td>\n",
              "      <td>1.0</td>\n",
              "      <td>0.0</td>\n",
              "      <td>0.0</td>\n",
              "      <td>0.0</td>\n",
              "      <td>0.0</td>\n",
              "      <td>0.0</td>\n",
              "      <td>0.0</td>\n",
              "      <td>1.0</td>\n",
              "      <td>0.0</td>\n",
              "      <td>0.0</td>\n",
              "      <td>0.0</td>\n",
              "      <td>1.0</td>\n",
              "      <td>0.0</td>\n",
              "      <td>0.0</td>\n",
              "      <td>0.0</td>\n",
              "      <td>1.0</td>\n",
              "    </tr>\n",
              "    <tr>\n",
              "      <th>4</th>\n",
              "      <td>1</td>\n",
              "      <td>Toy Story (1995)</td>\n",
              "      <td>[Adventure, Animation, Children, Comedy, Fantasy]</td>\n",
              "      <td>17</td>\n",
              "      <td>4.5</td>\n",
              "      <td>1305696483</td>\n",
              "      <td>1.0</td>\n",
              "      <td>0.0</td>\n",
              "      <td>0.0</td>\n",
              "      <td>0.0</td>\n",
              "      <td>1.0</td>\n",
              "      <td>0.0</td>\n",
              "      <td>0.0</td>\n",
              "      <td>0.0</td>\n",
              "      <td>0.0</td>\n",
              "      <td>0.0</td>\n",
              "      <td>0.0</td>\n",
              "      <td>1.0</td>\n",
              "      <td>0.0</td>\n",
              "      <td>0.0</td>\n",
              "      <td>0.0</td>\n",
              "      <td>1.0</td>\n",
              "      <td>0.0</td>\n",
              "      <td>0.0</td>\n",
              "      <td>0.0</td>\n",
              "      <td>1.0</td>\n",
              "    </tr>\n",
              "  </tbody>\n",
              "</table>\n",
              "</div>"
            ],
            "text/plain": [
              "   movieId             title  ... Action  Children\n",
              "0        1  Toy Story (1995)  ...    0.0       1.0\n",
              "1        1  Toy Story (1995)  ...    0.0       1.0\n",
              "2        1  Toy Story (1995)  ...    0.0       1.0\n",
              "3        1  Toy Story (1995)  ...    0.0       1.0\n",
              "4        1  Toy Story (1995)  ...    0.0       1.0\n",
              "\n",
              "[5 rows x 26 columns]"
            ]
          },
          "metadata": {
            "tags": []
          },
          "execution_count": 12
        }
      ]
    },
    {
      "cell_type": "code",
      "metadata": {
        "id": "Cw-8jBP82ANJ"
      },
      "source": [
        "#Getting means of genre ratings in list\n",
        "genre_rating = []\n",
        "genres = []\n",
        "for genre in all_genres:\n",
        "    genres.append(genre)\n",
        "    genre_rating.append(df_merged.loc[df_merged[genre]==1, ['rating']].mean())"
      ],
      "execution_count": 13,
      "outputs": []
    },
    {
      "cell_type": "code",
      "metadata": {
        "id": "15lhTaaR9xub",
        "colab": {
          "base_uri": "https://localhost:8080/",
          "height": 793
        },
        "outputId": "aa90d2a4-6de6-407e-da8f-24bd4d3dae47"
      },
      "source": [
        "plt.figure(figsize=(21,13))\n",
        "sns.barplot(x=genres, y=[i[0] for i in genre_rating])\n",
        "plt.title('Average Rating by Genre', fontweight='bold', fontsize=18)\n",
        "plt.xlabel('Genre',fontsize=14)\n",
        "plt.ylabel('Average Rating')\n",
        "plt.show()"
      ],
      "execution_count": 14,
      "outputs": [
        {
          "output_type": "display_data",
          "data": {
            "image/png": "[encoded data removed]",
            "text/plain": [
              "<Figure size 1512x936 with 1 Axes>"
            ]
          },
          "metadata": {
            "tags": [],
            "needs_background": "light"
          }
        }
      ]
    },
    {
      "cell_type": "markdown",
      "metadata": {
        "id": "3QyDYjNi2ANK"
      },
      "source": [
        "War, Documentary, and Film-Noir rank highest."
      ]
    },
    {
      "cell_type": "code",
      "metadata": {
        "id": "DN2IGAkxknK3"
      },
      "source": [
        "# Drop unnecessary columns\n",
        "new_df = df.drop(columns='timestamp')"
      ],
      "execution_count": 15,
      "outputs": []
    },
    {
      "cell_type": "markdown",
      "metadata": {
        "id": "rvJGCzYaknK3"
      },
      "source": [
        "Using Reader and Dataset classes to transform dataset for surprise compatability."
      ]
    },
    {
      "cell_type": "code",
      "metadata": {
        "colab": {
          "base_uri": "https://localhost:8080/"
        },
        "id": "uSlSilqqknK4",
        "outputId": "8fc5a4d4-90bf-4b05-c89c-4578cf3118c8"
      },
      "source": [
        "!pip install surprise\n",
        "from surprise import Reader, Dataset\n",
        "# read in values as Surprise dataset\n",
        "reader = Reader()\n",
        "data = Dataset.load_from_df(new_df, reader)"
      ],
      "execution_count": 16,
      "outputs": [
        {
          "output_type": "stream",
          "text": [
            "Collecting surprise\n",
            "  Downloading surprise-0.1-py2.py3-none-any.whl (1.8 kB)\n",
            "Collecting scikit-surprise\n",
            "  Downloading scikit-surprise-1.1.1.tar.gz (11.8 MB)\n",
            "\u001b[K     |████████████████████████████████| 11.8 MB 47 kB/s \n",
            "\u001b[?25hRequirement already satisfied: joblib>=0.11 in /usr/local/lib/python3.7/dist-packages (from scikit-surprise->surprise) (1.0.1)\n",
            "Requirement already satisfied: numpy>=1.11.2 in /usr/local/lib/python3.7/dist-packages (from scikit-surprise->surprise) (1.19.5)\n",
            "Requirement already satisfied: scipy>=1.0.0 in /usr/local/lib/python3.7/dist-packages (from scikit-surprise->surprise) (1.4.1)\n",
            "Requirement already satisfied: six>=1.10.0 in /usr/local/lib/python3.7/dist-packages (from scikit-surprise->surprise) (1.15.0)\n",
            "Building wheels for collected packages: scikit-surprise\n",
            "  Building wheel for scikit-surprise (setup.py) ... \u001b[?25l\u001b[?25hdone\n",
            "  Created wheel for scikit-surprise: filename=scikit_surprise-1.1.1-cp37-cp37m-linux_x86_64.whl size=1617788 sha256=57ab94c02e3e5364012e39973e9b76927d886adc529550980da4fd9f80a9b7dd\n",
            "  Stored in directory: /root/.cache/pip/wheels/76/44/74/b498c42be47b2406bd27994e16c5188e337c657025ab400c1c\n",
            "Successfully built scikit-surprise\n",
            "Installing collected packages: scikit-surprise, surprise\n",
            "Successfully installed scikit-surprise-1.1.1 surprise-0.1\n"
          ],
          "name": "stdout"
        }
      ]
    },
    {
      "cell_type": "code",
      "metadata": {
        "colab": {
          "base_uri": "https://localhost:8080/"
        },
        "id": "kcwMcu4IknK4",
        "outputId": "a8f7623d-053d-48fe-f15d-761d80efae9d"
      },
      "source": [
        "dataset = data.build_full_trainset()\n",
        "print('Number of users: ', dataset.n_users, '\\n')\n",
        "print('Number of items: ', dataset.n_items)"
      ],
      "execution_count": 17,
      "outputs": [
        {
          "output_type": "stream",
          "text": [
            "Number of users:  610 \n",
            "\n",
            "Number of items:  9724\n"
          ],
          "name": "stdout"
        }
      ]
    },
    {
      "cell_type": "markdown",
      "metadata": {
        "id": "o1A4nplEknK6"
      },
      "source": [
        "Determine the best model."
      ]
    },
    {
      "cell_type": "code",
      "metadata": {
        "id": "gwCWOiHvknK6"
      },
      "source": [
        "# importing relevant libraries\n",
        "from surprise.model_selection import cross_validate\n",
        "from surprise.prediction_algorithms import SVD\n",
        "from surprise.prediction_algorithms import KNNWithMeans, KNNBasic, KNNBaseline\n",
        "from surprise.model_selection import GridSearchCV\n",
        "import numpy as np"
      ],
      "execution_count": 18,
      "outputs": []
    },
    {
      "cell_type": "code",
      "metadata": {
        "id": "zRqxeVpRknK7"
      },
      "source": [
        "## Perform a gridsearch with SVD\n",
        "# ⏰ This cell may take several minutes to run\n",
        "params = {'n_factors': [25, 50, 100],\n",
        "         'reg_all': [.02, .05, .1]}\n",
        "g_s_svd = GridSearchCV(SVD, param_grid=params, n_jobs=-1)\n",
        "g_s_svd.fit(data)"
      ],
      "execution_count": 19,
      "outputs": []
    },
    {
      "cell_type": "code",
      "metadata": {
        "colab": {
          "base_uri": "https://localhost:8080/"
        },
        "id": "Z8FmD_USknK7",
        "outputId": "d175b0d3-8d65-4311-868a-cd79d82cdead"
      },
      "source": [
        "# print out optimal parameters for SVD after GridSearch\n",
        "g_s_svd.best_params"
      ],
      "execution_count": 20,
      "outputs": [
        {
          "output_type": "execute_result",
          "data": {
            "text/plain": [
              "{'mae': {'n_factors': 100, 'reg_all': 0.05},\n",
              " 'rmse': {'n_factors': 100, 'reg_all': 0.05}}"
            ]
          },
          "metadata": {
            "tags": []
          },
          "execution_count": 20
        }
      ]
    },
    {
      "cell_type": "code",
      "metadata": {
        "colab": {
          "base_uri": "https://localhost:8080/"
        },
        "id": "0jH3w3HYknK8",
        "outputId": "f9b7f086-7a29-47cc-df06-954e3ff21a98"
      },
      "source": [
        "g_s_svd.best_score"
      ],
      "execution_count": 21,
      "outputs": [
        {
          "output_type": "execute_result",
          "data": {
            "text/plain": [
              "{'mae': 0.6679276189836594, 'rmse': 0.8685226023886969}"
            ]
          },
          "metadata": {
            "tags": []
          },
          "execution_count": 21
        }
      ]
    },
    {
      "cell_type": "code",
      "metadata": {
        "id": "T9lKir_YknK8"
      },
      "source": [
        "# cross validating with KNNBasic\n",
        "knn_basic = KNNBasic(sim_options ={'name': 'pearson', 'user_based': True})\n",
        "cv_knn_basic = cross_validate(knn_basic, data, n_jobs=-1)"
      ],
      "execution_count": 22,
      "outputs": []
    },
    {
      "cell_type": "code",
      "metadata": {
        "colab": {
          "base_uri": "https://localhost:8080/"
        },
        "id": "MP3vo0sLknK9",
        "outputId": "23d21c9a-88ce-4881-e5f7-712f50231d5b"
      },
      "source": [
        "for i in cv_knn_basic.items():\n",
        "    print(i)"
      ],
      "execution_count": 23,
      "outputs": [
        {
          "output_type": "stream",
          "text": [
            "('test_rmse', array([0.96315591, 0.97456776, 0.9767654 , 0.97187361, 0.96855725]))\n",
            "('test_mae', array([0.74407057, 0.75171266, 0.75602012, 0.74925462, 0.74750939]))\n",
            "('fit_time', (0.7391948699951172, 0.8526341915130615, 0.7333786487579346, 0.8392772674560547, 0.5059711933135986))\n",
            "('test_time', (2.507439613342285, 2.4715590476989746, 2.5027225017547607, 2.4012937545776367, 1.2857418060302734))\n"
          ],
          "name": "stdout"
        }
      ]
    },
    {
      "cell_type": "code",
      "metadata": {
        "colab": {
          "base_uri": "https://localhost:8080/"
        },
        "id": "yVTVylczknK9",
        "outputId": "665f675a-9802-4f3f-be28-142175537f6e"
      },
      "source": [
        "# print out the average RMSE score for the test set\n",
        "print(np.mean(cv_knn_basic['test_rmse']))"
      ],
      "execution_count": 24,
      "outputs": [
        {
          "output_type": "stream",
          "text": [
            "0.9709839832931051\n"
          ],
          "name": "stdout"
        }
      ]
    },
    {
      "cell_type": "code",
      "metadata": {
        "id": "coTbaSlUknK9"
      },
      "source": [
        "# cross validating with KNNBaseline\n",
        "knn_baseline = KNNBaseline(sim_options ={'name': 'pearson', 'user_based': True})\n",
        "cv_knn_baseline = cross_validate(knn_baseline, data, n_jobs=-1)"
      ],
      "execution_count": 25,
      "outputs": []
    },
    {
      "cell_type": "code",
      "metadata": {
        "colab": {
          "base_uri": "https://localhost:8080/"
        },
        "id": "ySLrSXhjknK-",
        "outputId": "1da38f36-4995-42a6-9ab8-bd7463207764"
      },
      "source": [
        "# print out the average score for the test set\n",
        "for i in cv_knn_baseline.items():\n",
        "    print(i)"
      ],
      "execution_count": 26,
      "outputs": [
        {
          "output_type": "stream",
          "text": [
            "('test_rmse', array([0.88038337, 0.88499604, 0.87220957, 0.87597846, 0.87673895]))\n",
            "('test_mae', array([0.67151441, 0.67776918, 0.66521842, 0.66800174, 0.66838228]))\n",
            "('fit_time', (0.8878858089447021, 1.2025980949401855, 1.191166877746582, 1.3195016384124756, 0.86956787109375))\n",
            "('test_time', (3.804966688156128, 3.8045554161071777, 3.9537458419799805, 3.455230712890625, 1.9107458591461182))\n"
          ],
          "name": "stdout"
        }
      ]
    },
    {
      "cell_type": "code",
      "metadata": {
        "colab": {
          "base_uri": "https://localhost:8080/"
        },
        "id": "ZBGcl25GknK-",
        "outputId": "563c1dbe-8add-4cac-a5b2-c58d901e1646"
      },
      "source": [
        "print(np.mean(cv_knn_baseline['test_rmse']))"
      ],
      "execution_count": 27,
      "outputs": [
        {
          "output_type": "stream",
          "text": [
            "0.8780612770099092\n"
          ],
          "name": "stdout"
        }
      ]
    },
    {
      "cell_type": "markdown",
      "metadata": {
        "id": "VMl5ZwSYknK-"
      },
      "source": [
        "The best model is SVD with n_factors=25 and regularization rate of 0.05.\n",
        "\n"
      ]
    },
    {
      "cell_type": "markdown",
      "metadata": {
        "id": "g7ZFi79KknK-"
      },
      "source": [
        "Let's make recommendations using movie titles."
      ]
    },
    {
      "cell_type": "code",
      "metadata": {
        "colab": {
          "base_uri": "https://localhost:8080/"
        },
        "id": "CxrBVWJWknK_",
        "outputId": "357e291c-ffb6-4a0a-df4e-e158775b24f9"
      },
      "source": [
        "svd = SVD(n_factors=25, reg_all=0.05)\n",
        "svd.fit(dataset)"
      ],
      "execution_count": 28,
      "outputs": [
        {
          "output_type": "execute_result",
          "data": {
            "text/plain": [
              "<surprise.prediction_algorithms.matrix_factorization.SVD at 0x7f72a2c64090>"
            ]
          },
          "metadata": {
            "tags": []
          },
          "execution_count": 28
        }
      ]
    },
    {
      "cell_type": "code",
      "metadata": {
        "colab": {
          "base_uri": "https://localhost:8080/"
        },
        "id": "b17VtbQyknK_",
        "outputId": "94bf4077-0110-4c0a-8ec2-b7c4d44bfad4"
      },
      "source": [
        "svd.predict(3, 6)"
      ],
      "execution_count": 29,
      "outputs": [
        {
          "output_type": "execute_result",
          "data": {
            "text/plain": [
              "Prediction(uid=3, iid=6, r_ui=None, est=2.977520642735509, details={'was_impossible': False})"
            ]
          },
          "metadata": {
            "tags": []
          },
          "execution_count": 29
        }
      ]
    },
    {
      "cell_type": "code",
      "metadata": {
        "id": "81bV3OWqknLA"
      },
      "source": [
        "def movie_rater(movie_df,num, genre=None):\n",
        "    # Establish UserID\n",
        "    userID = 1000\n",
        "    # Create empty rating_list which will be a collection of dictionaries with format:\n",
        "        #{'userId': int , 'movieId': int , 'rating': float}\n",
        "    rating_list = []\n",
        "    #Use while loop to prompt user to input rating for sample movie, \"n\" will skip if user has not seen it\n",
        "    while num > 0:\n",
        "        if genre:\n",
        "            movie = movie_df[movie_df['genres'].str.contains(genre)].sample(1)\n",
        "        else:\n",
        "            movie = movie_df.sample(1)\n",
        "        print(movie['title'])\n",
        "        rating = input('How do you rate this movie on a scale of 1-5, press n if you have not seen :\\n')\n",
        "        if rating == 'n':\n",
        "            continue\n",
        "        else:\n",
        "            rating_one_movie = {'userId':userID,'movieId':movie['movieId'].values[0],'rating':rating}\n",
        "            rating_list.append(rating_one_movie) \n",
        "            num -= 1\n",
        "    return rating_list"
      ],
      "execution_count": 30,
      "outputs": []
    },
    {
      "cell_type": "code",
      "metadata": {
        "colab": {
          "base_uri": "https://localhost:8080/"
        },
        "id": "rePA4ooUknLA",
        "outputId": "a4704953-768f-4e80-b39e-3f45102d8615"
      },
      "source": [
        "user_rating = movie_rater(df_movies, 5)"
      ],
      "execution_count": 31,
      "outputs": [
        {
          "output_type": "stream",
          "text": [
            "1089    Mother (1996)\n",
            "Name: title, dtype: object\n",
            "How do you rate this movie on a scale of 1-5, press n if you have not seen :\n",
            "3\n",
            "6692    College Road Trip (2008)\n",
            "Name: title, dtype: object\n",
            "How do you rate this movie on a scale of 1-5, press n if you have not seen :\n",
            "4\n",
            "3620    Blue Angel, The (Blaue Engel, Der) (1930)\n",
            "Name: title, dtype: object\n",
            "How do you rate this movie on a scale of 1-5, press n if you have not seen :\n",
            "2\n",
            "4858    Barbershop 2: Back in Business (2004)\n",
            "Name: title, dtype: object\n",
            "How do you rate this movie on a scale of 1-5, press n if you have not seen :\n",
            "4\n",
            "7103    Time Traveler's Wife, The (2009)\n",
            "Name: title, dtype: object\n",
            "How do you rate this movie on a scale of 1-5, press n if you have not seen :\n",
            "3\n"
          ],
          "name": "stdout"
        }
      ]
    },
    {
      "cell_type": "code",
      "metadata": {
        "id": "KCJ2KLv2knLA"
      },
      "source": [
        "## add the new ratings to the original ratings DataFrame\n",
        "new_ratings_df = new_df.append(user_rating,ignore_index=True)\n",
        "new_data = Dataset.load_from_df(new_ratings_df,reader)"
      ],
      "execution_count": 32,
      "outputs": []
    },
    {
      "cell_type": "code",
      "metadata": {
        "colab": {
          "base_uri": "https://localhost:8080/"
        },
        "id": "ODyCNuzcknLB",
        "outputId": "04740c85-e625-4ed0-b1df-63e04802cf21"
      },
      "source": [
        "# train a model using the new combined DataFrame\n",
        "svd = SVD(n_factors=25, reg_all=0.05)\n",
        "svd.fit(new_data.build_full_trainset())"
      ],
      "execution_count": 33,
      "outputs": [
        {
          "output_type": "execute_result",
          "data": {
            "text/plain": [
              "<surprise.prediction_algorithms.matrix_factorization.SVD at 0x7f72a3dae090>"
            ]
          },
          "metadata": {
            "tags": []
          },
          "execution_count": 33
        }
      ]
    },
    {
      "cell_type": "code",
      "metadata": {
        "id": "IrRPcyRYknLB"
      },
      "source": [
        "# make predictions for the user\n",
        "list_of_movies = []\n",
        "for m_id in new_df['movieId'].unique():\n",
        "    list_of_movies.append((m_id, svd.predict(1000, m_id)[3]))"
      ],
      "execution_count": 34,
      "outputs": []
    },
    {
      "cell_type": "code",
      "metadata": {
        "id": "2g9Ky6O3knLB"
      },
      "source": [
        "# order the predictions from highest to lowest rated\n",
        "ranked_movies = sorted(list_of_movies, key=lambda x: x[1], reverse=True)"
      ],
      "execution_count": 35,
      "outputs": []
    },
    {
      "cell_type": "code",
      "metadata": {
        "colab": {
          "base_uri": "https://localhost:8080/"
        },
        "id": "eEbADGsPknLB",
        "outputId": "34c37ad3-304d-40f6-ceb7-edf9ccc43260"
      },
      "source": [
        "# return the top n recommendations\n",
        "def recommended_movies(user_ratings,movie_title_df,n):\n",
        "    # Iterate through user_ratings to pull title\n",
        "    for idx, rec in enumerate(user_ratings):\n",
        "        title = movie_title_df.loc[movie_title_df['movieId'] == int(rec[0])]['title']\n",
        "        print('Recommendation #', idx+1, ': ', title, '\\n')\n",
        "        n -=1\n",
        "        if n == 0:\n",
        "            break\n",
        "            \n",
        "recommended_movies(ranked_movies,df_movies,5)"
      ],
      "execution_count": 36,
      "outputs": [
        {
          "output_type": "stream",
          "text": [
            "Recommendation # 1 :  277    Shawshank Redemption, The (1994)\n",
            "Name: title, dtype: object \n",
            "\n",
            "Recommendation # 2 :  602    Dr. Strangelove or: How I Learned to Stop Worr...\n",
            "Name: title, dtype: object \n",
            "\n",
            "Recommendation # 3 :  883    Paths of Glory (1957)\n",
            "Name: title, dtype: object \n",
            "\n",
            "Recommendation # 4 :  686    Rear Window (1954)\n",
            "Name: title, dtype: object \n",
            "\n",
            "Recommendation # 5 :  659    Godfather, The (1972)\n",
            "Name: title, dtype: object \n",
            "\n"
          ],
          "name": "stdout"
        }
      ]
    },
    {
      "cell_type": "markdown",
      "metadata": {
        "id": "Jsy5zOJuDgZE"
      },
      "source": [
        "Next we will see if we can get a better RMSE using ALS in PySpark."
      ]
    },
    {
      "cell_type": "code",
      "metadata": {
        "colab": {
          "base_uri": "https://localhost:8080/"
        },
        "id": "hbBWR8NFknLC",
        "outputId": "0601b402-ce5b-4801-c183-1e6f2a60dbad"
      },
      "source": [
        "\n",
        "!apt update"
      ],
      "execution_count": 37,
      "outputs": [
        {
          "output_type": "stream",
          "text": [
            "\u001b[33m\r0% [Working]\u001b[0m\r            \rGet:1 http://security.ubuntu.com/ubuntu bionic-security InRelease [88.7 kB]\n",
            "\u001b[33m\r0% [Connecting to archive.ubuntu.com (91.189.88.152)] [1 InRelease 14.2 kB/88.7\u001b[0m\u001b[33m\r0% [Waiting for headers] [Waiting for headers] [Waiting for headers] [Waiting f\u001b[0m\u001b[33m\r0% [1 InRelease gpgv 88.7 kB] [Waiting for headers] [Waiting for headers] [Wait\u001b[0m\r                                                                               \rIgn:2 https://developer.download.nvidia.com/compute/cuda/repos/ubuntu1804/x86_64  InRelease\n",
            "\u001b[33m\r0% [1 InRelease gpgv 88.7 kB] [Waiting for headers] [Waiting for headers] [Wait\u001b[0m\r                                                                               \rGet:3 https://cloud.r-project.org/bin/linux/ubuntu bionic-cran40/ InRelease [3,626 B]\n",
            "\u001b[33m\r0% [1 InRelease gpgv 88.7 kB] [Waiting for headers] [3 InRelease 3,626 B/3,626 \u001b[0m\u001b[33m\r0% [1 InRelease gpgv 88.7 kB] [Waiting for headers] [Waiting for headers] [Wait\u001b[0m\r                                                                               \rHit:4 http://archive.ubuntu.com/ubuntu bionic InRelease\n",
            "Get:5 http://ppa.launchpad.net/c2d4u.team/c2d4u4.0+/ubuntu bionic InRelease [15.9 kB]\n",
            "Ign:6 https://developer.download.nvidia.com/compute/machine-learning/repos/ubuntu1804/x86_64  InRelease\n",
            "Get:7 https://developer.download.nvidia.com/compute/cuda/repos/ubuntu1804/x86_64  Release [697 B]\n",
            "Hit:8 https://developer.download.nvidia.com/compute/machine-learning/repos/ubuntu1804/x86_64  Release\n",
            "Get:9 https://developer.download.nvidia.com/compute/cuda/repos/ubuntu1804/x86_64  Release.gpg [836 B]\n",
            "Get:10 http://archive.ubuntu.com/ubuntu bionic-updates InRelease [88.7 kB]\n",
            "Hit:11 http://ppa.launchpad.net/cran/libgit2/ubuntu bionic InRelease\n",
            "Get:12 http://security.ubuntu.com/ubuntu bionic-security/multiverse amd64 Packages [26.7 kB]\n",
            "Get:13 http://security.ubuntu.com/ubuntu bionic-security/restricted amd64 Packages [505 kB]\n",
            "Get:14 http://security.ubuntu.com/ubuntu bionic-security/universe amd64 Packages [1,420 kB]\n",
            "Get:15 http://archive.ubuntu.com/ubuntu bionic-backports InRelease [74.6 kB]\n",
            "Get:16 http://security.ubuntu.com/ubuntu bionic-security/main amd64 Packages [2,257 kB]\n",
            "Hit:17 http://ppa.launchpad.net/deadsnakes/ppa/ubuntu bionic InRelease\n",
            "Get:18 http://ppa.launchpad.net/graphics-drivers/ppa/ubuntu bionic InRelease [21.3 kB]\n",
            "Ign:20 https://developer.download.nvidia.com/compute/cuda/repos/ubuntu1804/x86_64  Packages\n",
            "Get:20 https://developer.download.nvidia.com/compute/cuda/repos/ubuntu1804/x86_64  Packages [680 kB]\n",
            "Get:21 http://ppa.launchpad.net/c2d4u.team/c2d4u4.0+/ubuntu bionic/main Sources [1,785 kB]\n",
            "Get:22 http://archive.ubuntu.com/ubuntu bionic-updates/main amd64 Packages [2,693 kB]\n",
            "Get:23 http://ppa.launchpad.net/c2d4u.team/c2d4u4.0+/ubuntu bionic/main amd64 Packages [913 kB]\n",
            "Get:24 http://archive.ubuntu.com/ubuntu bionic-updates/restricted amd64 Packages [537 kB]\n",
            "Get:25 http://archive.ubuntu.com/ubuntu bionic-updates/multiverse amd64 Packages [33.6 kB]\n",
            "Get:26 http://archive.ubuntu.com/ubuntu bionic-updates/universe amd64 Packages [2,194 kB]\n",
            "Get:27 http://ppa.launchpad.net/graphics-drivers/ppa/ubuntu bionic/main amd64 Packages [44.1 kB]\n",
            "Fetched 13.4 MB in 4s (3,530 kB/s)\n",
            "Reading package lists... Done\n",
            "Building dependency tree       \n",
            "Reading state information... Done\n",
            "92 packages can be upgraded. Run 'apt list --upgradable' to see them.\n"
          ],
          "name": "stdout"
        }
      ]
    },
    {
      "cell_type": "code",
      "metadata": {
        "id": "OORgprK1qRdr"
      },
      "source": [
        "!apt-get install openjdk-8-jdk-headless -qq > /dev/null\n",
        "!wget -q https://downloads.apache.org/spark/spark-2.4.8/spark-2.4.8-bin-hadoop2.7.tgz\n",
        "!tar xf spark-2.4.8-bin-hadoop2.7.tgz\n",
        "!pip install -q findspark"
      ],
      "execution_count": 38,
      "outputs": []
    },
    {
      "cell_type": "code",
      "metadata": {
        "id": "lSh-fRQ1qUiX"
      },
      "source": [
        "import os\n",
        "os.environ[\"JAVA_HOME\"] = \"/usr/lib/jvm/java-1.8.0-openjdk-amd64\"\n",
        "os.environ[\"SPARK_HOME\"] = \"/content/spark-2.4.8-bin-hadoop2.7\""
      ],
      "execution_count": 39,
      "outputs": []
    },
    {
      "cell_type": "code",
      "metadata": {
        "id": "_6-Vj_qKqhTZ"
      },
      "source": [
        "import findspark\n",
        "findspark.init()"
      ],
      "execution_count": 40,
      "outputs": []
    },
    {
      "cell_type": "code",
      "metadata": {
        "id": "WyxynGUPqlkQ"
      },
      "source": [
        "import pyspark\n",
        "sc = pyspark.SparkContext('local[*]')"
      ],
      "execution_count": 41,
      "outputs": []
    },
    {
      "cell_type": "code",
      "metadata": {
        "id": "iAZPG8f8qnMX"
      },
      "source": [
        "# import necessary libraries\n",
        "from pyspark import SparkContext\n",
        "from pyspark.sql import SparkSession\n",
        "\n",
        "# instantiate SparkSession object\n",
        "spark = SparkSession.builder.master(\"local\").getOrCreate()"
      ],
      "execution_count": 42,
      "outputs": []
    },
    {
      "cell_type": "code",
      "metadata": {
        "id": "r3B1Gb6aqsAK"
      },
      "source": [
        "# read in the dataset into pyspark DataFrame\n",
        "movie_ratings = spark.read.csv('/content/ratings.csv', header='true', inferSchema='true')"
      ],
      "execution_count": 43,
      "outputs": []
    },
    {
      "cell_type": "markdown",
      "metadata": {
        "id": "dneeibufGykk"
      },
      "source": [
        "Below we will define a function to calculate the sparsity of the DataFrame."
      ]
    },
    {
      "cell_type": "code",
      "metadata": {
        "colab": {
          "base_uri": "https://localhost:8080/"
        },
        "id": "dwxMA8ujkRhl",
        "outputId": "051f54a0-1df4-44ca-cdde-7eb49b380d0e"
      },
      "source": [
        "def get_mat_sparsity(ratings):\n",
        "    # Count the total number of ratings in the dataset\n",
        "    count_nonzero = ratings.select(\"rating\").count()\n",
        "\n",
        "    # Count the number of distinct userIds and distinct movieIds\n",
        "    total_elements = ratings.select(\"userId\").distinct().count() * ratings.select(\"movieId\").distinct().count()\n",
        "\n",
        "    # Divide the numerator by the denominator\n",
        "    sparsity = (1.0 - (count_nonzero *1.0)/total_elements)*100\n",
        "    print(\"The ratings DataFrame is \", \"%.2f\" % sparsity + \"% sparse.\")\n",
        "    \n",
        "get_mat_sparsity(movie_ratings)"
      ],
      "execution_count": 44,
      "outputs": [
        {
          "output_type": "stream",
          "text": [
            "The ratings DataFrame is  98.30% sparse.\n"
          ],
          "name": "stdout"
        }
      ]
    },
    {
      "cell_type": "code",
      "metadata": {
        "colab": {
          "base_uri": "https://localhost:8080/"
        },
        "id": "_MgOI0NSk4wS",
        "outputId": "10f421f7-1736-41fd-e394-63b9cd0b59f2"
      },
      "source": [
        "# Group data by userId, count ratings\n",
        "userId_ratings = movie_ratings.groupBy(\"userId\").count().orderBy('count', ascending=False)\n",
        "userId_ratings.show()"
      ],
      "execution_count": 45,
      "outputs": [
        {
          "output_type": "stream",
          "text": [
            "+------+-----+\n",
            "|userId|count|\n",
            "+------+-----+\n",
            "|   414| 2698|\n",
            "|   599| 2478|\n",
            "|   474| 2108|\n",
            "|   448| 1864|\n",
            "|   274| 1346|\n",
            "|   610| 1302|\n",
            "|    68| 1260|\n",
            "|   380| 1218|\n",
            "|   606| 1115|\n",
            "|   288| 1055|\n",
            "|   249| 1046|\n",
            "|   387| 1027|\n",
            "|   182|  977|\n",
            "|   307|  975|\n",
            "|   603|  943|\n",
            "|   298|  939|\n",
            "|   177|  904|\n",
            "|   318|  879|\n",
            "|   232|  862|\n",
            "|   480|  836|\n",
            "+------+-----+\n",
            "only showing top 20 rows\n",
            "\n"
          ],
          "name": "stdout"
        }
      ]
    },
    {
      "cell_type": "code",
      "metadata": {
        "colab": {
          "base_uri": "https://localhost:8080/"
        },
        "id": "sihWmUOhk8Uo",
        "outputId": "5a737eff-3cc7-4a30-859b-d2bc16da7e42"
      },
      "source": [
        "# Group data by userId, count ratings\n",
        "movieId_ratings = movie_ratings.groupBy(\"movieId\").count().orderBy('count', ascending=False)\n",
        "movieId_ratings.show()"
      ],
      "execution_count": 46,
      "outputs": [
        {
          "output_type": "stream",
          "text": [
            "+-------+-----+\n",
            "|movieId|count|\n",
            "+-------+-----+\n",
            "|    356|  329|\n",
            "|    318|  317|\n",
            "|    296|  307|\n",
            "|    593|  279|\n",
            "|   2571|  278|\n",
            "|    260|  251|\n",
            "|    480|  238|\n",
            "|    110|  237|\n",
            "|    589|  224|\n",
            "|    527|  220|\n",
            "|   2959|  218|\n",
            "|      1|  215|\n",
            "|   1196|  211|\n",
            "|     50|  204|\n",
            "|   2858|  204|\n",
            "|     47|  203|\n",
            "|    780|  202|\n",
            "|    150|  201|\n",
            "|   1198|  200|\n",
            "|   4993|  198|\n",
            "+-------+-----+\n",
            "only showing top 20 rows\n",
            "\n"
          ],
          "name": "stdout"
        }
      ]
    },
    {
      "cell_type": "code",
      "metadata": {
        "colab": {
          "base_uri": "https://localhost:8080/"
        },
        "id": "X7bHRYiDqva_",
        "outputId": "5cbfdbe3-f7d8-4e94-eb54-9336d103c742"
      },
      "source": [
        "movie_ratings.dtypes"
      ],
      "execution_count": 47,
      "outputs": [
        {
          "output_type": "execute_result",
          "data": {
            "text/plain": [
              "[('userId', 'int'),\n",
              " ('movieId', 'int'),\n",
              " ('rating', 'double'),\n",
              " ('timestamp', 'int')]"
            ]
          },
          "metadata": {
            "tags": []
          },
          "execution_count": 47
        }
      ]
    },
    {
      "cell_type": "code",
      "metadata": {
        "id": "GTCX2X3Lqypg"
      },
      "source": [
        "movie_ratings = movie_ratings.drop('timestamp')"
      ],
      "execution_count": 48,
      "outputs": []
    },
    {
      "cell_type": "code",
      "metadata": {
        "id": "miy3RpYQq6gf"
      },
      "source": [
        "from pyspark.ml.evaluation import RegressionEvaluator\n",
        "\n",
        "from pyspark.ml.recommendation import ALS \n",
        "\n",
        "# split into training and testing sets\n",
        "(training, test) = movie_ratings.randomSplit([.8, .2])\n",
        "\n",
        "# Build the recommendation model using ALS on the training data\n",
        "# Note we set cold start strategy to 'drop' to ensure we don't get NaN evaluation metrics\n",
        "als = ALS(maxIter=5, rank=4, regParam=0.01, userCol='userId', itemCol='movieId', ratingCol='rating', coldStartStrategy='drop')\n",
        "\n",
        "# fit the ALS model to the training set\n",
        "model=als.fit(training)"
      ],
      "execution_count": 49,
      "outputs": []
    },
    {
      "cell_type": "code",
      "metadata": {
        "colab": {
          "base_uri": "https://localhost:8080/"
        },
        "id": "tj3JqWTwq8rh",
        "outputId": "f8d9b4af-3343-4dc9-a2f9-fbc8671f85f0"
      },
      "source": [
        "# Evaluate the model by computing the RMSE on the test data\n",
        "predictions = model.transform(test)\n",
        "evaluator = RegressionEvaluator(metricName='rmse', labelCol='rating', predictionCol='prediction')\n",
        "rmse = evaluator.evaluate(predictions)\n",
        "print(rmse)"
      ],
      "execution_count": 50,
      "outputs": [
        {
          "output_type": "stream",
          "text": [
            "0.9793955448233842\n"
          ],
          "name": "stdout"
        }
      ]
    },
    {
      "cell_type": "code",
      "metadata": {
        "colab": {
          "base_uri": "https://localhost:8080/"
        },
        "id": "LxeRbsqonUac",
        "outputId": "c1ecabe6-0582-4239-9666-811d0b2999d9"
      },
      "source": [
        "predictions.show()"
      ],
      "execution_count": 51,
      "outputs": [
        {
          "output_type": "stream",
          "text": [
            "+------+-------+------+------------+\n",
            "|userId|movieId|rating|  prediction|\n",
            "+------+-------+------+------------+\n",
            "|   474|    471|   3.0|   3.2795112|\n",
            "|    57|    471|   3.0|   3.4281807|\n",
            "|   610|    471|   4.0|   3.3554935|\n",
            "|   520|    471|   5.0|   3.8476524|\n",
            "|   448|    471|   4.0|    3.549129|\n",
            "|   216|    471|   3.0|    3.948055|\n",
            "|   287|    471|   4.5|   2.6519618|\n",
            "|   426|    471|   5.0|    4.357235|\n",
            "|   599|    833|   1.5|   0.8472545|\n",
            "|   307|    833|   1.0|-0.019661427|\n",
            "|   606|   1088|   3.0|   3.2653165|\n",
            "|   599|   1088|   2.5|   2.9381216|\n",
            "|   594|   1088|   4.5|   4.3733845|\n",
            "|   509|   1088|   3.0|   2.9012792|\n",
            "|    10|   1088|   3.0|   2.6037462|\n",
            "|   221|   1088|   3.0|   3.1222792|\n",
            "|   200|   1088|   4.0|   4.1620703|\n",
            "|   116|   1088|   4.5|   3.3386579|\n",
            "|   517|   1088|   1.0|    3.677531|\n",
            "|   385|   1238|   3.0|   3.9354782|\n",
            "+------+-------+------+------------+\n",
            "only showing top 20 rows\n",
            "\n"
          ],
          "name": "stdout"
        }
      ]
    },
    {
      "cell_type": "code",
      "metadata": {
        "id": "RErf4tvXrBFK"
      },
      "source": [
        "from pyspark.ml.tuning import CrossValidator, ParamGridBuilder\n",
        "\n",
        "# initialize the ALS model\n",
        "#als_model = ALS(userCol='userId', itemCol='movieId', ratingCol='rating', coldStartStrategy='drop')\n",
        "\n",
        "# create the parameter grid              \n",
        "#params = ParamGridBuilder().addGrid(als_model.regParam, [.01, .05, .1, .15]).addGrid(als_model.rank, [10, 50, 100, 150]).build()\n",
        "\n",
        "# instantiating crossvalidator estimator\n",
        "#cv = CrossValidator(estimator=als_model, estimatorParamMaps=params, evaluator=evaluator, parallelism=4)\n",
        "#best_model = cv.fit(movie_ratings)"
      ],
      "execution_count": 52,
      "outputs": []
    },
    {
      "cell_type": "code",
      "metadata": {
        "id": "j5dVsUpviay_"
      },
      "source": [
        "#model = best_model.bestModel"
      ],
      "execution_count": 53,
      "outputs": []
    },
    {
      "cell_type": "code",
      "metadata": {
        "id": "SfXhsHRXjN70"
      },
      "source": [
        "\n",
        "# Print best_model\n",
        "#print(type(model))\n",
        "\n",
        "# Complete the code below to extract the ALS model parameters\n",
        "#print(\"**Best Model**\")\n",
        "\n",
        "# # Print \"Rank\"\n",
        "#print(\"  Rank:\", model._java_obj.parent().getRank())\n",
        "\n",
        "# Print \"MaxIter\"\n",
        "#print(\"  MaxIter:\", model._java_obj.parent().getMaxIter())\n",
        "\n",
        "# Print \"RegParam\"\n",
        "#print(\"  RegParam:\", model._java_obj.parent().getRegParam())"
      ],
      "execution_count": 54,
      "outputs": []
    },
    {
      "cell_type": "markdown",
      "metadata": {
        "id": "bRLFTjxzISUW"
      },
      "source": [
        "Note: The above CV takes 40 minutes to run and yields:\n",
        "Rank: 50\n",
        "MaxIter: 10\n",
        "RegParam: 0.15"
      ]
    },
    {
      "cell_type": "code",
      "metadata": {
        "id": "Vn-2r-6IjbkI"
      },
      "source": [
        "final_als = ALS(maxIter=10, rank=50, regParam=0.15, userCol='userId', itemCol='movieId', ratingCol='rating', coldStartStrategy='drop')\n",
        "final_model = final_als.fit(training)"
      ],
      "execution_count": 55,
      "outputs": []
    },
    {
      "cell_type": "code",
      "metadata": {
        "colab": {
          "base_uri": "https://localhost:8080/"
        },
        "id": "VZCVO9WkkqlP",
        "outputId": "abaa5a3e-3cfb-494a-fb49-42ebde45f511"
      },
      "source": [
        "test_predictions = final_model.transform(test)\n",
        "RMSE = evaluator.evaluate(test_predictions)\n",
        "print(RMSE)"
      ],
      "execution_count": 56,
      "outputs": [
        {
          "output_type": "stream",
          "text": [
            "0.8744603448628496\n"
          ],
          "name": "stdout"
        }
      ]
    },
    {
      "cell_type": "code",
      "metadata": {
        "id": "HIVGMQ_sIn95",
        "colab": {
          "base_uri": "https://localhost:8080/"
        },
        "outputId": "7dc109a9-5b4a-45bb-93c4-6a47a6f74cde"
      },
      "source": [
        "test_predictions.show()"
      ],
      "execution_count": 57,
      "outputs": [
        {
          "output_type": "stream",
          "text": [
            "+------+-------+------+----------+\n",
            "|userId|movieId|rating|prediction|\n",
            "+------+-------+------+----------+\n",
            "|   474|    471|   3.0|  3.092484|\n",
            "|    57|    471|   3.0| 3.4095232|\n",
            "|   610|    471|   4.0|  3.323009|\n",
            "|   520|    471|   5.0| 3.3250353|\n",
            "|   448|    471|   4.0| 3.1919277|\n",
            "|   216|    471|   3.0| 3.1740468|\n",
            "|   287|    471|   4.5| 2.6062477|\n",
            "|   426|    471|   5.0|  3.131059|\n",
            "|   599|    833|   1.5| 1.3846078|\n",
            "|   307|    833|   1.0|  1.355217|\n",
            "|   606|   1088|   3.0| 3.3293993|\n",
            "|   599|   1088|   2.5|  2.424682|\n",
            "|   594|   1088|   4.5| 4.2729383|\n",
            "|   509|   1088|   3.0| 3.0788243|\n",
            "|    10|   1088|   3.0| 3.0902216|\n",
            "|   221|   1088|   3.0| 3.1281378|\n",
            "|   200|   1088|   4.0| 3.5761337|\n",
            "|   116|   1088|   4.5| 3.6548903|\n",
            "|   517|   1088|   1.0| 2.6795106|\n",
            "|   385|   1238|   3.0|  3.831832|\n",
            "+------+-------+------+----------+\n",
            "only showing top 20 rows\n",
            "\n"
          ],
          "name": "stdout"
        }
      ]
    },
    {
      "cell_type": "code",
      "metadata": {
        "colab": {
          "base_uri": "https://localhost:8080/"
        },
        "id": "rW0hYOpXrduC",
        "outputId": "3b8509ae-f6e7-42ce-ce50-897d8790cd1c"
      },
      "source": [
        "movie_titles = spark.read.csv('movies.csv', header='true', inferSchema='true')\n",
        "\n",
        "movie_titles.head(5)"
      ],
      "execution_count": 58,
      "outputs": [
        {
          "output_type": "execute_result",
          "data": {
            "text/plain": [
              "[Row(movieId=1, title='Toy Story (1995)', genres='Adventure|Animation|Children|Comedy|Fantasy'),\n",
              " Row(movieId=2, title='Jumanji (1995)', genres='Adventure|Children|Fantasy'),\n",
              " Row(movieId=3, title='Grumpier Old Men (1995)', genres='Comedy|Romance'),\n",
              " Row(movieId=4, title='Waiting to Exhale (1995)', genres='Comedy|Drama|Romance'),\n",
              " Row(movieId=5, title='Father of the Bride Part II (1995)', genres='Comedy')]"
            ]
          },
          "metadata": {
            "tags": []
          },
          "execution_count": 58
        }
      ]
    },
    {
      "cell_type": "code",
      "metadata": {
        "id": "jj55VPpUttr8"
      },
      "source": [
        "def name_retriever(movie_id, movie_title_df):\n",
        "    return movie_title_df.where(movie_title_df.movieId == movie_id).take(1)[0]['title']"
      ],
      "execution_count": 59,
      "outputs": []
    },
    {
      "cell_type": "code",
      "metadata": {
        "colab": {
          "base_uri": "https://localhost:8080/"
        },
        "id": "Ky0JNtsPuP96",
        "outputId": "a1051e18-2d68-4e26-9c68-884faaf8c837"
      },
      "source": [
        "print(name_retriever(1022, movie_titles))"
      ],
      "execution_count": 136,
      "outputs": [
        {
          "output_type": "stream",
          "text": [
            "Cinderella (1950)\n"
          ],
          "name": "stdout"
        }
      ]
    },
    {
      "cell_type": "code",
      "metadata": {
        "id": "NKDugRMUuS4D"
      },
      "source": [
        "users = movie_ratings.select(als.getUserCol()).distinct().limit(1)\n",
        "userSubsetRecs = model.recommendForUserSubset(users, 10)\n",
        "recs = userSubsetRecs.take(1)"
      ],
      "execution_count": 61,
      "outputs": []
    },
    {
      "cell_type": "code",
      "metadata": {
        "colab": {
          "base_uri": "https://localhost:8080/",
          "height": 35
        },
        "id": "9B_cq32_uadO",
        "outputId": "cdc3a48b-05d2-4b3f-d458-93558561630f"
      },
      "source": [
        "# use indexing to obtain the movie id of top predicted rated item\n",
        "first_recommendation = recs[0]['recommendations'][0][0]\n",
        "\n",
        "# use the name retriever function to get the values\n",
        "name_retriever(first_recommendation,movie_titles)"
      ],
      "execution_count": 62,
      "outputs": [
        {
          "output_type": "execute_result",
          "data": {
            "application/vnd.google.colaboratory.intrinsic+json": {
              "type": "string"
            },
            "text/plain": [
              "'Titanic (1953)'"
            ]
          },
          "metadata": {
            "tags": []
          },
          "execution_count": 62
        }
      ]
    },
    {
      "cell_type": "code",
      "metadata": {
        "colab": {
          "base_uri": "https://localhost:8080/"
        },
        "id": "_qkFYxoyuq1E",
        "outputId": "a39fbf38-438c-43eb-cd32-87cd6aaa7439"
      },
      "source": [
        "recommendations = model.recommendForAllUsers(5)\n",
        "recommendations.where(recommendations.userId == 3).collect()"
      ],
      "execution_count": 63,
      "outputs": [
        {
          "output_type": "execute_result",
          "data": {
            "text/plain": [
              "[Row(userId=3, recommendations=[Row(movieId=3837, rating=10.311745643615723), Row(movieId=158783, rating=9.546235084533691), Row(movieId=27728, rating=9.028257369995117), Row(movieId=5485, rating=8.007699966430664), Row(movieId=80126, rating=7.799057483673096)])]"
            ]
          },
          "metadata": {
            "tags": []
          },
          "execution_count": 63
        }
      ]
    },
    {
      "cell_type": "code",
      "metadata": {
        "id": "Om9OEIi5utH6"
      },
      "source": [
        "def new_user_recs(user_id, new_ratings, rating_df, movie_title_df, num_recs):\n",
        "    # turn the new_recommendations list into a spark DataFrame\n",
        "  new_user_ratings = spark.createDataFrame(new_ratings, rating_df.columns)\n",
        "    \n",
        "    # combine the new ratings df with the rating_df\n",
        "  movie_ratings_combined = rating_df.union(new_user_ratings)\n",
        "    \n",
        "    # create an ALS model and fit it\n",
        "  als = ALS(maxIter=10, rank=50, regParam=0.15, userCol='userId', itemCol='movieId', ratingCol='rating', coldStartStrategy='drop')\n",
        "  model = als.fit(movie_ratings_combined)\n",
        "    \n",
        "    # make recommendations for all users using the recommendForAllUsers method\n",
        "  recommendations = model.recommendForAllUsers(num_recs)\n",
        "    \n",
        "    # get recommendations specifically for the new user that has been added to the DataFrame\n",
        "  recs_for_user = recommendations.where(recommendations.userId == user_id).take(1)\n",
        "\n",
        "  for ranking, (movie_id, rating) in enumerate(recs_for_user[0]['recommendations']):\n",
        "    movie_string = name_retriever(movie_id, movie_title_df)\n",
        "    print('Recommendation {}: {} | predicted score: {}'.format(ranking+1, movie_string, rating))"
      ],
      "execution_count": 64,
      "outputs": []
    },
    {
      "cell_type": "code",
      "metadata": {
        "colab": {
          "base_uri": "https://localhost:8080/"
        },
        "id": "o_ibtCk4uwxp",
        "outputId": "ccefdce4-b35f-4da7-e0a4-c4d1d0323cb1"
      },
      "source": [
        "# try out your function with the movies listed above\n",
        "user_id = 400\n",
        "user_ratings_1 = [(user_id, 3000, 5), (user_id, 2500, 5), (user_id, 2000, 4), (user_id, 1757, 4)]\n",
        "new_user_recs(user_id, user_ratings_1, movie_ratings, movie_titles, 10)"
      ],
      "execution_count": 65,
      "outputs": [
        {
          "output_type": "stream",
          "text": [
            "Recommendation 1: On the Beach (1959) | predicted score: 5.6094651222229\n",
            "Recommendation 2: Jetée, La (1962) | predicted score: 5.285323619842529\n",
            "Recommendation 3: Come and See (Idi i smotri) (1985) | predicted score: 5.279440402984619\n",
            "Recommendation 4: Saving Face (2004) | predicted score: 5.272751331329346\n",
            "Recommendation 5: Seve (2014) | predicted score: 5.141029357910156\n",
            "Recommendation 6: The Big Bus (1976) | predicted score: 5.141029357910156\n",
            "Recommendation 7: Cosmos | predicted score: 5.136869430541992\n",
            "Recommendation 8: Crossing Delancey (1988) | predicted score: 5.063690662384033\n",
            "Recommendation 9: Lady Jane (1986) | predicted score: 5.063690662384033\n",
            "Recommendation 10: Rivers and Tides (2001) | predicted score: 5.055665493011475\n"
          ],
          "name": "stdout"
        }
      ]
    },
    {
      "cell_type": "code",
      "metadata": {
        "id": "m7fKbRfolKIs",
        "outputId": "61193257-39c9-4ee5-ef7f-fed27345283e",
        "colab": {
          "base_uri": "https://localhost:8080/"
        }
      },
      "source": [
        "input_samples = movie_ratings.sample(False, 0.001, seed=1000).collect()\n",
        "sample_list = [i[1] for i in input_samples]\n",
        "user_id = 1000\n",
        "rating_list = []\n",
        "num = 5\n",
        "for i in range(len(sample_list)):\n",
        "  print(name_retriever(sample_list[i], movie_titles))\n",
        "  rating = input('How do you rate this movie on a scale of 1-5, press n if you have not seen :\\n')\n",
        "  if rating == 'n':\n",
        "    continue\n",
        "  else:\n",
        "    rating_list.append((user_id, sample_list[i], int(rating)))\n",
        "    num -= 1\n",
        "    if num == 0:\n",
        "      break"
      ],
      "execution_count": 320,
      "outputs": [
        {
          "output_type": "stream",
          "text": [
            "Departed, The (2006)\n",
            "How do you rate this movie on a scale of 1-5, press n if you have not seen :\n",
            "5\n",
            "12 Angry Men (1957)\n",
            "How do you rate this movie on a scale of 1-5, press n if you have not seen :\n",
            "4\n",
            "Aladdin (1992)\n",
            "How do you rate this movie on a scale of 1-5, press n if you have not seen :\n",
            "5\n",
            "Real Genius (1985)\n",
            "How do you rate this movie on a scale of 1-5, press n if you have not seen :\n",
            "4\n",
            "What Lies Beneath (2000)\n",
            "How do you rate this movie on a scale of 1-5, press n if you have not seen :\n",
            "n\n",
            "National Treasure (2004)\n",
            "How do you rate this movie on a scale of 1-5, press n if you have not seen :\n",
            "2\n"
          ],
          "name": "stdout"
        }
      ]
    },
    {
      "cell_type": "code",
      "metadata": {
        "id": "fot7qwuFuU7l",
        "outputId": "8a6f7062-dc66-4fa6-c1e0-c2f5b2882376",
        "colab": {
          "base_uri": "https://localhost:8080/"
        }
      },
      "source": [
        "user_id = 1000\n",
        "rating_list = []\n",
        "num = 5\n",
        "for i in range(len(sample_list)):\n",
        "  print(name_retriever(sample_list[i], movie_titles))\n",
        "  rating = input('How do you rate this movie on a scale of 1-5, press n if you have not seen :\\n')\n",
        "  if rating == 'n':\n",
        "    continue\n",
        "  else:\n",
        "    rating_list.append((user_id, sample_list[i], int(rating)))\n",
        "    num -= 1\n",
        "    if num == 0:\n",
        "      break"
      ],
      "execution_count": 318,
      "outputs": [
        {
          "output_type": "stream",
          "text": [
            "Departed, The (2006)\n",
            "How do you rate this movie on a scale of 1-5, press n if you have not seen :\n",
            "n\n",
            "12 Angry Men (1957)\n",
            "How do you rate this movie on a scale of 1-5, press n if you have not seen :\n",
            "n\n",
            "Aladdin (1992)\n",
            "How do you rate this movie on a scale of 1-5, press n if you have not seen :\n",
            "n\n",
            "Real Genius (1985)\n",
            "How do you rate this movie on a scale of 1-5, press n if you have not seen :\n",
            "n\n",
            "What Lies Beneath (2000)\n",
            "How do you rate this movie on a scale of 1-5, press n if you have not seen :\n",
            "n\n",
            "National Treasure (2004)\n",
            "How do you rate this movie on a scale of 1-5, press n if you have not seen :\n",
            "4\n",
            "Fierce Creatures (1997)\n",
            "How do you rate this movie on a scale of 1-5, press n if you have not seen :\n",
            "3\n",
            "Beverly Hills Cop (1984)\n",
            "How do you rate this movie on a scale of 1-5, press n if you have not seen :\n",
            "4\n",
            "Jungle Book, The (1994)\n",
            "How do you rate this movie on a scale of 1-5, press n if you have not seen :\n",
            "3\n",
            "Shawshank Redemption, The (1994)\n",
            "How do you rate this movie on a scale of 1-5, press n if you have not seen :\n",
            "4\n"
          ],
          "name": "stdout"
        }
      ]
    },
    {
      "cell_type": "code",
      "metadata": {
        "id": "6EawZ61o95tI"
      },
      "source": [
        "def new_user_recs(user_id, rating_df, movie_title_df, num_ratings, num_recs):\n",
        "\n",
        "  input_samples = rating_df.sample(False, 0.001, seed=1000).collect()\n",
        "  sample_list = [i[1] for i in input_samples]\n",
        "  #user_id = 1000\n",
        "  new_ratings = []\n",
        "  #num = 5\n",
        "  for i in range(len(sample_list)):\n",
        "    print(name_retriever(sample_list[i], movie_title_df))\n",
        "    rating = input('How do you rate this movie on a scale of 1-5, press n if you have not seen :\\n')\n",
        "    if rating == 'n':\n",
        "      continue\n",
        "    else:\n",
        "      new_ratings.append((user_id, sample_list[i], int(rating)))\n",
        "      num_ratings -= 1\n",
        "      if num_ratings == 0:\n",
        "        break\n",
        "    # turn the new_recommendations list into a spark DataFrame\n",
        "  new_user_ratings = spark.createDataFrame(new_ratings, rating_df.columns)\n",
        "    \n",
        "    # combine the new ratings df with the rating_df\n",
        "  movie_ratings_combined = rating_df.union(new_user_ratings)\n",
        "    \n",
        "    # create an ALS model and fit it\n",
        "  als = ALS(maxIter=10, rank=50, regParam=0.15, userCol='userId', itemCol='movieId', ratingCol='rating', coldStartStrategy='drop')\n",
        "  model = als.fit(movie_ratings_combined)\n",
        "    \n",
        "    # make recommendations for all users using the recommendForAllUsers method\n",
        "  recommendations = model.recommendForAllUsers(num_recs)\n",
        "    \n",
        "    # get recommendations specifically for the new user that has been added to the DataFrame\n",
        "  recs_for_user = recommendations.where(recommendations.userId == user_id).take(1)\n",
        "\n",
        "  for ranking, (movie_id, rating) in enumerate(recs_for_user[0]['recommendations']):\n",
        "    movie_string = name_retriever(movie_id, movie_title_df)\n",
        "    print('Recommendation {}: {} | predicted score: {}'.format(ranking+1, movie_string, rating))"
      ],
      "execution_count": 327,
      "outputs": []
    },
    {
      "cell_type": "code",
      "metadata": {
        "id": "9fzOlkh_-qoZ",
        "outputId": "cf6ad7f3-7092-4d63-b0b7-034d1cfd9f56",
        "colab": {
          "base_uri": "https://localhost:8080/"
        }
      },
      "source": [
        "new_user_recs(1000, movie_ratings, movie_titles, 5, 10)"
      ],
      "execution_count": 328,
      "outputs": [
        {
          "output_type": "stream",
          "text": [
            "Departed, The (2006)\n",
            "How do you rate this movie on a scale of 1-5, press n if you have not seen :\n",
            "4\n",
            "12 Angry Men (1957)\n",
            "How do you rate this movie on a scale of 1-5, press n if you have not seen :\n",
            "n\n",
            "Aladdin (1992)\n",
            "How do you rate this movie on a scale of 1-5, press n if you have not seen :\n",
            "n\n",
            "Real Genius (1985)\n",
            "How do you rate this movie on a scale of 1-5, press n if you have not seen :\n",
            "n\n",
            "What Lies Beneath (2000)\n",
            "How do you rate this movie on a scale of 1-5, press n if you have not seen :\n",
            "n\n",
            "National Treasure (2004)\n",
            "How do you rate this movie on a scale of 1-5, press n if you have not seen :\n",
            "n\n",
            "Fierce Creatures (1997)\n",
            "How do you rate this movie on a scale of 1-5, press n if you have not seen :\n",
            "n\n",
            "Beverly Hills Cop (1984)\n",
            "How do you rate this movie on a scale of 1-5, press n if you have not seen :\n",
            "n\n",
            "Jungle Book, The (1994)\n",
            "How do you rate this movie on a scale of 1-5, press n if you have not seen :\n",
            "4\n",
            "Shawshank Redemption, The (1994)\n",
            "How do you rate this movie on a scale of 1-5, press n if you have not seen :\n",
            "n\n",
            "Omega Man, The (1971)\n",
            "How do you rate this movie on a scale of 1-5, press n if you have not seen :\n",
            "n\n",
            "Armageddon (1998)\n",
            "How do you rate this movie on a scale of 1-5, press n if you have not seen :\n",
            "5\n",
            "Monsters University (2013)\n",
            "How do you rate this movie on a scale of 1-5, press n if you have not seen :\n",
            "1\n",
            "V for Vendetta (2006)\n",
            "How do you rate this movie on a scale of 1-5, press n if you have not seen :\n",
            "1\n",
            "Recommendation 1: Set It Off (1996) | predicted score: 4.0481672286987305\n",
            "Recommendation 2: Armageddon (1998) | predicted score: 4.006890296936035\n",
            "Recommendation 3: The Girl with All the Gifts (2016) | predicted score: 3.9359936714172363\n",
            "Recommendation 4: Iron Monkey (Siu nin Wong Fei-hung ji: Tit Ma Lau) (1993) | predicted score: 3.8643510341644287\n",
            "Recommendation 5: Strictly Sexual (2008) | predicted score: 3.8556370735168457\n",
            "Recommendation 6: Finding Dory (2016) | predicted score: 3.8553571701049805\n",
            "Recommendation 7: Supercop 2 (Project S) (Chao ji ji hua) (1993) | predicted score: 3.844442844390869\n",
            "Recommendation 8: Just Go with It (2011) | predicted score: 3.834812641143799\n",
            "Recommendation 9: She's Out of My League (2010) | predicted score: 3.8045473098754883\n",
            "Recommendation 10: Tyler Perry's I Can Do Bad All by Myself (2009) | predicted score: 3.799678325653076\n"
          ],
          "name": "stdout"
        }
      ]
    }
  ]
}