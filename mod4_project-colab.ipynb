{
  "nbformat": 4,
  "nbformat_minor": 0,
  "metadata": {
    "kernelspec": {
      "display_name": "Python [conda env:learn-env] *",
      "language": "python",
      "name": "conda-env-learn-env-py"
    },
    "language_info": {
      "codemirror_mode": {
        "name": "ipython",
        "version": 3
      },
      "file_extension": ".py",
      "mimetype": "text/x-python",
      "name": "python",
      "nbconvert_exporter": "python",
      "pygments_lexer": "ipython3",
      "version": "3.6.9"
    },
    "colab": {
      "name": "mod4-project.ipynb",
      "provenance": [],
      "include_colab_link": true
    }
  },
  "cells": [
    {
      "cell_type": "markdown",
      "metadata": {
        "id": "view-in-github",
        "colab_type": "text"
      },
      "source": [
        "<a href=\"https://colab.research.google.com/github/JonahFlateman/dsc-project-template/blob/master/mod4_project-colab.ipynb\" target=\"_parent\"><img src=\"https://colab.research.google.com/assets/colab-badge.svg\" alt=\"Open In Colab\"/></a>"
      ]
    },
    {
      "cell_type": "markdown",
      "metadata": {
        "id": "7j3uL62CknKz"
      },
      "source": [
        "Let's start by using surprise to test some simple models."
      ]
    },
    {
      "cell_type": "code",
      "metadata": {
        "id": "iX_O3offknK1",
        "colab": {
          "base_uri": "https://localhost:8080/"
        },
        "outputId": "cc7b0ca7-213b-4cc6-ef28-8bf84eddc7f0"
      },
      "source": [
        "import pandas as pd\n",
        "df = pd.read_csv('/content/ratings.csv')\n",
        "df.info()"
      ],
      "execution_count": 1,
      "outputs": [
        {
          "output_type": "stream",
          "text": [
            "<class 'pandas.core.frame.DataFrame'>\n",
            "RangeIndex: 100836 entries, 0 to 100835\n",
            "Data columns (total 4 columns):\n",
            " #   Column     Non-Null Count   Dtype  \n",
            "---  ------     --------------   -----  \n",
            " 0   userId     100836 non-null  int64  \n",
            " 1   movieId    100836 non-null  int64  \n",
            " 2   rating     100836 non-null  float64\n",
            " 3   timestamp  100836 non-null  int64  \n",
            "dtypes: float64(1), int64(3)\n",
            "memory usage: 3.1 MB\n"
          ],
          "name": "stdout"
        }
      ]
    },
    {
      "cell_type": "code",
      "metadata": {
        "id": "HIf0yuzSknK2",
        "colab": {
          "base_uri": "https://localhost:8080/",
          "height": 204
        },
        "outputId": "adbc01ca-00b3-4782-c91f-1e7e13c864da"
      },
      "source": [
        "df.head()"
      ],
      "execution_count": 2,
      "outputs": [
        {
          "output_type": "execute_result",
          "data": {
            "text/html": [
              "<div>\n",
              "<style scoped>\n",
              "    .dataframe tbody tr th:only-of-type {\n",
              "        vertical-align: middle;\n",
              "    }\n",
              "\n",
              "    .dataframe tbody tr th {\n",
              "        vertical-align: top;\n",
              "    }\n",
              "\n",
              "    .dataframe thead th {\n",
              "        text-align: right;\n",
              "    }\n",
              "</style>\n",
              "<table border=\"1\" class=\"dataframe\">\n",
              "  <thead>\n",
              "    <tr style=\"text-align: right;\">\n",
              "      <th></th>\n",
              "      <th>userId</th>\n",
              "      <th>movieId</th>\n",
              "      <th>rating</th>\n",
              "      <th>timestamp</th>\n",
              "    </tr>\n",
              "  </thead>\n",
              "  <tbody>\n",
              "    <tr>\n",
              "      <th>0</th>\n",
              "      <td>1</td>\n",
              "      <td>1</td>\n",
              "      <td>4.0</td>\n",
              "      <td>964982703</td>\n",
              "    </tr>\n",
              "    <tr>\n",
              "      <th>1</th>\n",
              "      <td>1</td>\n",
              "      <td>3</td>\n",
              "      <td>4.0</td>\n",
              "      <td>964981247</td>\n",
              "    </tr>\n",
              "    <tr>\n",
              "      <th>2</th>\n",
              "      <td>1</td>\n",
              "      <td>6</td>\n",
              "      <td>4.0</td>\n",
              "      <td>964982224</td>\n",
              "    </tr>\n",
              "    <tr>\n",
              "      <th>3</th>\n",
              "      <td>1</td>\n",
              "      <td>47</td>\n",
              "      <td>5.0</td>\n",
              "      <td>964983815</td>\n",
              "    </tr>\n",
              "    <tr>\n",
              "      <th>4</th>\n",
              "      <td>1</td>\n",
              "      <td>50</td>\n",
              "      <td>5.0</td>\n",
              "      <td>964982931</td>\n",
              "    </tr>\n",
              "  </tbody>\n",
              "</table>\n",
              "</div>"
            ],
            "text/plain": [
              "   userId  movieId  rating  timestamp\n",
              "0       1        1     4.0  964982703\n",
              "1       1        3     4.0  964981247\n",
              "2       1        6     4.0  964982224\n",
              "3       1       47     5.0  964983815\n",
              "4       1       50     5.0  964982931"
            ]
          },
          "metadata": {
            "tags": []
          },
          "execution_count": 2
        }
      ]
    },
    {
      "cell_type": "code",
      "metadata": {
        "id": "DN2IGAkxknK3"
      },
      "source": [
        "# Drop unnecessary columns\n",
        "new_df = df.drop(columns='timestamp')"
      ],
      "execution_count": 3,
      "outputs": []
    },
    {
      "cell_type": "markdown",
      "metadata": {
        "id": "rvJGCzYaknK3"
      },
      "source": [
        "Using Reader and Dataset classes to transform dataset for surprise compatability."
      ]
    },
    {
      "cell_type": "code",
      "metadata": {
        "id": "uSlSilqqknK4",
        "colab": {
          "base_uri": "https://localhost:8080/"
        },
        "outputId": "309eaa8c-8945-430f-93c1-37542a882466"
      },
      "source": [
        "!pip install surprise\n",
        "from surprise import Reader, Dataset\n",
        "# read in values as Surprise dataset\n",
        "reader = Reader()\n",
        "data = Dataset.load_from_df(new_df, reader)"
      ],
      "execution_count": 4,
      "outputs": [
        {
          "output_type": "stream",
          "text": [
            "Collecting surprise\n",
            "  Downloading surprise-0.1-py2.py3-none-any.whl (1.8 kB)\n",
            "Collecting scikit-surprise\n",
            "  Downloading scikit-surprise-1.1.1.tar.gz (11.8 MB)\n",
            "\u001b[K     |████████████████████████████████| 11.8 MB 51 kB/s \n",
            "\u001b[?25hRequirement already satisfied: joblib>=0.11 in /usr/local/lib/python3.7/dist-packages (from scikit-surprise->surprise) (1.0.1)\n",
            "Requirement already satisfied: numpy>=1.11.2 in /usr/local/lib/python3.7/dist-packages (from scikit-surprise->surprise) (1.19.5)\n",
            "Requirement already satisfied: scipy>=1.0.0 in /usr/local/lib/python3.7/dist-packages (from scikit-surprise->surprise) (1.4.1)\n",
            "Requirement already satisfied: six>=1.10.0 in /usr/local/lib/python3.7/dist-packages (from scikit-surprise->surprise) (1.15.0)\n",
            "Building wheels for collected packages: scikit-surprise\n",
            "  Building wheel for scikit-surprise (setup.py) ... \u001b[?25l\u001b[?25hdone\n",
            "  Created wheel for scikit-surprise: filename=scikit_surprise-1.1.1-cp37-cp37m-linux_x86_64.whl size=1617755 sha256=f663b0f8a33e06965dcbbc409370a3ca820d2e46c05720c52aa41201fe497186\n",
            "  Stored in directory: /root/.cache/pip/wheels/76/44/74/b498c42be47b2406bd27994e16c5188e337c657025ab400c1c\n",
            "Successfully built scikit-surprise\n",
            "Installing collected packages: scikit-surprise, surprise\n",
            "Successfully installed scikit-surprise-1.1.1 surprise-0.1\n"
          ],
          "name": "stdout"
        }
      ]
    },
    {
      "cell_type": "code",
      "metadata": {
        "id": "kcwMcu4IknK4",
        "colab": {
          "base_uri": "https://localhost:8080/"
        },
        "outputId": "83faaaee-1f71-4dc2-caf0-5f93c47fe2ed"
      },
      "source": [
        "dataset = data.build_full_trainset()\n",
        "print('Number of users: ', dataset.n_users, '\\n')\n",
        "print('Number of items: ', dataset.n_items)"
      ],
      "execution_count": 5,
      "outputs": [
        {
          "output_type": "stream",
          "text": [
            "Number of users:  610 \n",
            "\n",
            "Number of items:  9724\n"
          ],
          "name": "stdout"
        }
      ]
    },
    {
      "cell_type": "markdown",
      "metadata": {
        "id": "o1A4nplEknK6"
      },
      "source": [
        "Determine the best model."
      ]
    },
    {
      "cell_type": "code",
      "metadata": {
        "id": "gwCWOiHvknK6"
      },
      "source": [
        "# importing relevant libraries\n",
        "from surprise.model_selection import cross_validate\n",
        "from surprise.prediction_algorithms import SVD\n",
        "from surprise.prediction_algorithms import KNNWithMeans, KNNBasic, KNNBaseline\n",
        "from surprise.model_selection import GridSearchCV\n",
        "import numpy as np"
      ],
      "execution_count": 6,
      "outputs": []
    },
    {
      "cell_type": "code",
      "metadata": {
        "id": "zRqxeVpRknK7"
      },
      "source": [
        "## Perform a gridsearch with SVD\n",
        "# ⏰ This cell may take several minutes to run\n",
        "params = {'n_factors': [25, 50, 100],\n",
        "         'reg_all': [.02, .05, .1]}\n",
        "g_s_svd = GridSearchCV(SVD, param_grid=params, n_jobs=-1)\n",
        "g_s_svd.fit(data)"
      ],
      "execution_count": 7,
      "outputs": []
    },
    {
      "cell_type": "code",
      "metadata": {
        "id": "Z8FmD_USknK7",
        "colab": {
          "base_uri": "https://localhost:8080/"
        },
        "outputId": "1bc5cd22-fb84-402a-ddc1-e9bf57fc0607"
      },
      "source": [
        "# print out optimal parameters for SVD after GridSearch\n",
        "g_s_svd.best_params"
      ],
      "execution_count": 8,
      "outputs": [
        {
          "output_type": "execute_result",
          "data": {
            "text/plain": [
              "{'mae': {'n_factors': 100, 'reg_all': 0.05},\n",
              " 'rmse': {'n_factors': 100, 'reg_all': 0.05}}"
            ]
          },
          "metadata": {
            "tags": []
          },
          "execution_count": 8
        }
      ]
    },
    {
      "cell_type": "code",
      "metadata": {
        "id": "0jH3w3HYknK8",
        "colab": {
          "base_uri": "https://localhost:8080/"
        },
        "outputId": "8589ad7a-f9dd-49be-f32a-1fc8a6592939"
      },
      "source": [
        "g_s_svd.best_score"
      ],
      "execution_count": 9,
      "outputs": [
        {
          "output_type": "execute_result",
          "data": {
            "text/plain": [
              "{'mae': 0.6683300028345278, 'rmse': 0.869192261893539}"
            ]
          },
          "metadata": {
            "tags": []
          },
          "execution_count": 9
        }
      ]
    },
    {
      "cell_type": "code",
      "metadata": {
        "id": "T9lKir_YknK8"
      },
      "source": [
        "# cross validating with KNNBasic\n",
        "knn_basic = KNNBasic(sim_options ={'name': 'pearson', 'user_based': True})\n",
        "cv_knn_basic = cross_validate(knn_basic, data, n_jobs=-1)"
      ],
      "execution_count": 10,
      "outputs": []
    },
    {
      "cell_type": "code",
      "metadata": {
        "id": "MP3vo0sLknK9",
        "colab": {
          "base_uri": "https://localhost:8080/"
        },
        "outputId": "bd39f392-2d36-4cf3-d73b-2cc730f32e01"
      },
      "source": [
        "for i in cv_knn_basic.items():\n",
        "    print(i)"
      ],
      "execution_count": 11,
      "outputs": [
        {
          "output_type": "stream",
          "text": [
            "('test_rmse', array([0.9739547 , 0.97097203, 0.98115596, 0.96838372, 0.97131969]))\n",
            "('test_mae', array([0.75145516, 0.74926024, 0.75540386, 0.74974945, 0.75132907]))\n",
            "('fit_time', (0.7373204231262207, 0.7881269454956055, 0.7386050224304199, 0.8087260723114014, 0.4578678607940674))\n",
            "('test_time', (2.4968807697296143, 2.404313087463379, 2.5085268020629883, 2.414485454559326, 1.29105544090271))\n"
          ],
          "name": "stdout"
        }
      ]
    },
    {
      "cell_type": "code",
      "metadata": {
        "id": "yVTVylczknK9",
        "colab": {
          "base_uri": "https://localhost:8080/"
        },
        "outputId": "e685a83f-1650-4c01-846c-461345587932"
      },
      "source": [
        "# print out the average RMSE score for the test set\n",
        "print(np.mean(cv_knn_basic['test_rmse']))"
      ],
      "execution_count": 12,
      "outputs": [
        {
          "output_type": "stream",
          "text": [
            "0.9731572199754336\n"
          ],
          "name": "stdout"
        }
      ]
    },
    {
      "cell_type": "code",
      "metadata": {
        "id": "coTbaSlUknK9"
      },
      "source": [
        "# cross validating with KNNBaseline\n",
        "knn_baseline = KNNBaseline(sim_options ={'name': 'pearson', 'user_based': True})\n",
        "cv_knn_baseline = cross_validate(knn_baseline, data, n_jobs=-1)"
      ],
      "execution_count": 13,
      "outputs": []
    },
    {
      "cell_type": "code",
      "metadata": {
        "id": "ySLrSXhjknK-",
        "colab": {
          "base_uri": "https://localhost:8080/"
        },
        "outputId": "fa8f5339-ad89-41a8-8cd8-507ba81d1dc5"
      },
      "source": [
        "# print out the average score for the test set\n",
        "for i in cv_knn_baseline.items():\n",
        "    print(i)"
      ],
      "execution_count": 14,
      "outputs": [
        {
          "output_type": "stream",
          "text": [
            "('test_rmse', array([0.87458429, 0.87215231, 0.88008978, 0.87547632, 0.88127783]))\n",
            "('test_mae', array([0.67042312, 0.66404346, 0.67430874, 0.67003686, 0.67111157]))\n",
            "('fit_time', (0.8522236347198486, 1.1409227848052979, 1.1644933223724365, 1.484827995300293, 0.846437931060791))\n",
            "('test_time', (4.175719261169434, 3.9973037242889404, 3.9616451263427734, 3.3830652236938477, 2.019829273223877))\n"
          ],
          "name": "stdout"
        }
      ]
    },
    {
      "cell_type": "code",
      "metadata": {
        "id": "ZBGcl25GknK-",
        "colab": {
          "base_uri": "https://localhost:8080/"
        },
        "outputId": "52a30c31-f440-4cce-ab14-c20c07b87527"
      },
      "source": [
        "print(np.mean(cv_knn_baseline['test_rmse']))"
      ],
      "execution_count": 15,
      "outputs": [
        {
          "output_type": "stream",
          "text": [
            "0.8767161054193723\n"
          ],
          "name": "stdout"
        }
      ]
    },
    {
      "cell_type": "markdown",
      "metadata": {
        "id": "VMl5ZwSYknK-"
      },
      "source": [
        "The best model is SVD with n_factors=50 and regularization rate of 0.05."
      ]
    },
    {
      "cell_type": "markdown",
      "metadata": {
        "id": "g7ZFi79KknK-"
      },
      "source": [
        "Let's make recommendations using movie titles."
      ]
    },
    {
      "cell_type": "code",
      "metadata": {
        "id": "3-50BPjrknK_"
      },
      "source": [
        "df_movies = pd.read_csv('/content/movies.csv')"
      ],
      "execution_count": 16,
      "outputs": []
    },
    {
      "cell_type": "code",
      "metadata": {
        "id": "r7PUdkENknK_",
        "colab": {
          "base_uri": "https://localhost:8080/",
          "height": 204
        },
        "outputId": "2b3e0410-803d-41fd-bd2a-6fa70172b5d7"
      },
      "source": [
        "df_movies.head()"
      ],
      "execution_count": 17,
      "outputs": [
        {
          "output_type": "execute_result",
          "data": {
            "text/html": [
              "<div>\n",
              "<style scoped>\n",
              "    .dataframe tbody tr th:only-of-type {\n",
              "        vertical-align: middle;\n",
              "    }\n",
              "\n",
              "    .dataframe tbody tr th {\n",
              "        vertical-align: top;\n",
              "    }\n",
              "\n",
              "    .dataframe thead th {\n",
              "        text-align: right;\n",
              "    }\n",
              "</style>\n",
              "<table border=\"1\" class=\"dataframe\">\n",
              "  <thead>\n",
              "    <tr style=\"text-align: right;\">\n",
              "      <th></th>\n",
              "      <th>movieId</th>\n",
              "      <th>title</th>\n",
              "      <th>genres</th>\n",
              "    </tr>\n",
              "  </thead>\n",
              "  <tbody>\n",
              "    <tr>\n",
              "      <th>0</th>\n",
              "      <td>1</td>\n",
              "      <td>Toy Story (1995)</td>\n",
              "      <td>Adventure|Animation|Children|Comedy|Fantasy</td>\n",
              "    </tr>\n",
              "    <tr>\n",
              "      <th>1</th>\n",
              "      <td>2</td>\n",
              "      <td>Jumanji (1995)</td>\n",
              "      <td>Adventure|Children|Fantasy</td>\n",
              "    </tr>\n",
              "    <tr>\n",
              "      <th>2</th>\n",
              "      <td>3</td>\n",
              "      <td>Grumpier Old Men (1995)</td>\n",
              "      <td>Comedy|Romance</td>\n",
              "    </tr>\n",
              "    <tr>\n",
              "      <th>3</th>\n",
              "      <td>4</td>\n",
              "      <td>Waiting to Exhale (1995)</td>\n",
              "      <td>Comedy|Drama|Romance</td>\n",
              "    </tr>\n",
              "    <tr>\n",
              "      <th>4</th>\n",
              "      <td>5</td>\n",
              "      <td>Father of the Bride Part II (1995)</td>\n",
              "      <td>Comedy</td>\n",
              "    </tr>\n",
              "  </tbody>\n",
              "</table>\n",
              "</div>"
            ],
            "text/plain": [
              "   movieId  ...                                       genres\n",
              "0        1  ...  Adventure|Animation|Children|Comedy|Fantasy\n",
              "1        2  ...                   Adventure|Children|Fantasy\n",
              "2        3  ...                               Comedy|Romance\n",
              "3        4  ...                         Comedy|Drama|Romance\n",
              "4        5  ...                                       Comedy\n",
              "\n",
              "[5 rows x 3 columns]"
            ]
          },
          "metadata": {
            "tags": []
          },
          "execution_count": 17
        }
      ]
    },
    {
      "cell_type": "code",
      "metadata": {
        "id": "CxrBVWJWknK_",
        "colab": {
          "base_uri": "https://localhost:8080/"
        },
        "outputId": "e364b67b-1290-4d2d-96c7-3e4fef30df2d"
      },
      "source": [
        "svd = SVD(n_factors=100, reg_all=0.05)\n",
        "svd.fit(dataset)"
      ],
      "execution_count": 18,
      "outputs": [
        {
          "output_type": "execute_result",
          "data": {
            "text/plain": [
              "<surprise.prediction_algorithms.matrix_factorization.SVD at 0x7f31e62a8f10>"
            ]
          },
          "metadata": {
            "tags": []
          },
          "execution_count": 18
        }
      ]
    },
    {
      "cell_type": "code",
      "metadata": {
        "id": "b17VtbQyknK_",
        "colab": {
          "base_uri": "https://localhost:8080/"
        },
        "outputId": "1c97b2d3-f29e-4e00-ae6b-90eb148227be"
      },
      "source": [
        "svd.predict(3, 6)"
      ],
      "execution_count": 19,
      "outputs": [
        {
          "output_type": "execute_result",
          "data": {
            "text/plain": [
              "Prediction(uid=3, iid=6, r_ui=None, est=2.9374889545502123, details={'was_impossible': False})"
            ]
          },
          "metadata": {
            "tags": []
          },
          "execution_count": 19
        }
      ]
    },
    {
      "cell_type": "code",
      "metadata": {
        "id": "81bV3OWqknLA"
      },
      "source": [
        "def movie_rater(movie_df,num, genre=None):\n",
        "    userID = 1000\n",
        "    rating_list = []\n",
        "    while num > 0:\n",
        "        if genre:\n",
        "            movie = movie_df[movie_df['genres'].str.contains(genre)].sample(1)\n",
        "        else:\n",
        "            movie = movie_df.sample(1)\n",
        "        print(movie['title'])\n",
        "        rating = input('How do you rate this movie on a scale of 1-5, press n if you have not seen :\\n')\n",
        "        if rating == 'n':\n",
        "            continue\n",
        "        else:\n",
        "            rating_one_movie = {'userId':userID,'movieId':movie['movieId'].values[0],'rating':rating}\n",
        "            rating_list.append(rating_one_movie) \n",
        "            num -= 1\n",
        "    return rating_list"
      ],
      "execution_count": 20,
      "outputs": []
    },
    {
      "cell_type": "code",
      "metadata": {
        "id": "n5zfZ56FknLA",
        "colab": {
          "base_uri": "https://localhost:8080/"
        },
        "outputId": "25737fbe-0dfc-405b-a7cd-0ab5c087c8a0"
      },
      "source": [
        "movie_rater(df_movies, 5, 'Adventure')"
      ],
      "execution_count": 21,
      "outputs": [
        {
          "output_type": "stream",
          "text": [
            "8964    God Loves Caviar (2012)\n",
            "Name: title, dtype: object\n",
            "How do you rate this movie on a scale of 1-5, press n if you have not seen :\n",
            "3\n",
            "4795    Last Samurai, The (2003)\n",
            "Name: title, dtype: object\n",
            "How do you rate this movie on a scale of 1-5, press n if you have not seen :\n",
            "4\n",
            "6580    Into the Wild (2007)\n",
            "Name: title, dtype: object\n",
            "How do you rate this movie on a scale of 1-5, press n if you have not seen :\n",
            "5\n",
            "8963    Batman v Superman: Dawn of Justice (2016)\n",
            "Name: title, dtype: object\n",
            "How do you rate this movie on a scale of 1-5, press n if you have not seen :\n",
            "3\n",
            "8114    Journey to the West: Conquering the Demons (Da...\n",
            "Name: title, dtype: object\n",
            "How do you rate this movie on a scale of 1-5, press n if you have not seen :\n",
            "3\n"
          ],
          "name": "stdout"
        },
        {
          "output_type": "execute_result",
          "data": {
            "text/plain": [
              "[{'movieId': 136912, 'rating': '3', 'userId': 1000},\n",
              " {'movieId': 7143, 'rating': '4', 'userId': 1000},\n",
              " {'movieId': 55247, 'rating': '5', 'userId': 1000},\n",
              " {'movieId': 136864, 'rating': '3', 'userId': 1000},\n",
              " {'movieId': 100882, 'rating': '3', 'userId': 1000}]"
            ]
          },
          "metadata": {
            "tags": []
          },
          "execution_count": 21
        }
      ]
    },
    {
      "cell_type": "code",
      "metadata": {
        "id": "rePA4ooUknLA",
        "colab": {
          "base_uri": "https://localhost:8080/"
        },
        "outputId": "852743cb-dbbc-4185-9ad9-ea99509a13a2"
      },
      "source": [
        "user_rating = movie_rater(df_movies, 5, 'Adventure')"
      ],
      "execution_count": 22,
      "outputs": [
        {
          "output_type": "stream",
          "text": [
            "2253    Licence to Kill (1989)\n",
            "Name: title, dtype: object\n",
            "How do you rate this movie on a scale of 1-5, press n if you have not seen :\n",
            "4\n",
            "9219    Embrace of the Serpent (2016)\n",
            "Name: title, dtype: object\n",
            "How do you rate this movie on a scale of 1-5, press n if you have not seen :\n",
            "2\n",
            "6886    Quantum of Solace (2008)\n",
            "Name: title, dtype: object\n",
            "How do you rate this movie on a scale of 1-5, press n if you have not seen :\n",
            "5\n",
            "5586    Stand, The (1994)\n",
            "Name: title, dtype: object\n",
            "How do you rate this movie on a scale of 1-5, press n if you have not seen :\n",
            "3\n",
            "7409    Machete (2010)\n",
            "Name: title, dtype: object\n",
            "How do you rate this movie on a scale of 1-5, press n if you have not seen :\n",
            "4\n"
          ],
          "name": "stdout"
        }
      ]
    },
    {
      "cell_type": "code",
      "metadata": {
        "id": "KCJ2KLv2knLA"
      },
      "source": [
        "## add the new ratings to the original ratings DataFrame\n",
        "new_ratings_df = new_df.append(user_rating,ignore_index=True)\n",
        "new_data = Dataset.load_from_df(new_ratings_df,reader)"
      ],
      "execution_count": 23,
      "outputs": []
    },
    {
      "cell_type": "code",
      "metadata": {
        "id": "ODyCNuzcknLB",
        "colab": {
          "base_uri": "https://localhost:8080/"
        },
        "outputId": "9b15fff1-0d4d-4627-a45e-ae876a0a5374"
      },
      "source": [
        "# train a model using the new combined DataFrame\n",
        "svd = SVD(n_factors=50, reg_all=0.05)\n",
        "svd.fit(new_data.build_full_trainset())"
      ],
      "execution_count": 24,
      "outputs": [
        {
          "output_type": "execute_result",
          "data": {
            "text/plain": [
              "<surprise.prediction_algorithms.matrix_factorization.SVD at 0x7f31e62a8590>"
            ]
          },
          "metadata": {
            "tags": []
          },
          "execution_count": 24
        }
      ]
    },
    {
      "cell_type": "code",
      "metadata": {
        "id": "IrRPcyRYknLB"
      },
      "source": [
        "# make predictions for the user\n",
        "# you'll probably want to create a list of tuples in the format (movie_id, predicted_score)\n",
        "list_of_movies = []\n",
        "for m_id in new_df['movieId'].unique():\n",
        "    list_of_movies.append((m_id, svd.predict(1000, m_id)[3]))"
      ],
      "execution_count": 25,
      "outputs": []
    },
    {
      "cell_type": "code",
      "metadata": {
        "id": "2g9Ky6O3knLB"
      },
      "source": [
        "# order the predictions from highest to lowest rated\n",
        "\n",
        "ranked_movies = sorted(list_of_movies, key=lambda x: x[1], reverse=True)"
      ],
      "execution_count": 26,
      "outputs": []
    },
    {
      "cell_type": "code",
      "metadata": {
        "id": "eEbADGsPknLB",
        "colab": {
          "base_uri": "https://localhost:8080/"
        },
        "outputId": "e53a465b-d7c8-4544-b637-0e1dce336e43"
      },
      "source": [
        "# return the top n recommendations using the \n",
        "def recommended_movies(user_ratings,movie_title_df,n):\n",
        "        for idx, rec in enumerate(user_ratings):\n",
        "            title = movie_title_df.loc[movie_title_df['movieId'] == int(rec[0])]['title']\n",
        "            print('Recommendation #', idx+1, ': ', title, '\\n')\n",
        "            n -=1\n",
        "            if n == 0:\n",
        "                break\n",
        "            \n",
        "recommended_movies(ranked_movies,df_movies,5)"
      ],
      "execution_count": 27,
      "outputs": [
        {
          "output_type": "stream",
          "text": [
            "Recommendation # 1 :  277    Shawshank Redemption, The (1994)\n",
            "Name: title, dtype: object \n",
            "\n",
            "Recommendation # 2 :  602    Dr. Strangelove or: How I Learned to Stop Worr...\n",
            "Name: title, dtype: object \n",
            "\n",
            "Recommendation # 3 :  906    Lawrence of Arabia (1962)\n",
            "Name: title, dtype: object \n",
            "\n",
            "Recommendation # 4 :  2226    Fight Club (1999)\n",
            "Name: title, dtype: object \n",
            "\n",
            "Recommendation # 5 :  863    Monty Python and the Holy Grail (1975)\n",
            "Name: title, dtype: object \n",
            "\n"
          ],
          "name": "stdout"
        }
      ]
    },
    {
      "cell_type": "code",
      "metadata": {
        "id": "hbBWR8NFknLC",
        "colab": {
          "base_uri": "https://localhost:8080/"
        },
        "outputId": "bd7cc026-859d-451e-b844-1abc705c6845"
      },
      "source": [
        "\n",
        "!apt update"
      ],
      "execution_count": 28,
      "outputs": [
        {
          "output_type": "stream",
          "text": [
            "Get:1 https://cloud.r-project.org/bin/linux/ubuntu bionic-cran40/ InRelease [3,626 B]\n",
            "Ign:2 https://developer.download.nvidia.com/compute/cuda/repos/ubuntu1804/x86_64  InRelease\n",
            "Get:3 http://security.ubuntu.com/ubuntu bionic-security InRelease [88.7 kB]\n",
            "Ign:4 https://developer.download.nvidia.com/compute/machine-learning/repos/ubuntu1804/x86_64  InRelease\n",
            "Get:5 https://developer.download.nvidia.com/compute/cuda/repos/ubuntu1804/x86_64  Release [697 B]\n",
            "Hit:6 https://developer.download.nvidia.com/compute/machine-learning/repos/ubuntu1804/x86_64  Release\n",
            "Hit:7 http://archive.ubuntu.com/ubuntu bionic InRelease\n",
            "Get:8 https://developer.download.nvidia.com/compute/cuda/repos/ubuntu1804/x86_64  Release.gpg [836 B]\n",
            "Get:9 http://ppa.launchpad.net/c2d4u.team/c2d4u4.0+/ubuntu bionic InRelease [15.9 kB]\n",
            "Get:11 http://archive.ubuntu.com/ubuntu bionic-updates InRelease [88.7 kB]\n",
            "Ign:12 https://developer.download.nvidia.com/compute/cuda/repos/ubuntu1804/x86_64  Packages\n",
            "Get:12 https://developer.download.nvidia.com/compute/cuda/repos/ubuntu1804/x86_64  Packages [679 kB]\n",
            "Hit:13 http://ppa.launchpad.net/cran/libgit2/ubuntu bionic InRelease\n",
            "Get:14 http://archive.ubuntu.com/ubuntu bionic-backports InRelease [74.6 kB]\n",
            "Hit:15 http://ppa.launchpad.net/deadsnakes/ppa/ubuntu bionic InRelease\n",
            "Get:16 http://security.ubuntu.com/ubuntu bionic-security/restricted amd64 Packages [500 kB]\n",
            "Get:17 http://archive.ubuntu.com/ubuntu bionic-updates/universe amd64 Packages [2,190 kB]\n",
            "Get:18 http://ppa.launchpad.net/graphics-drivers/ppa/ubuntu bionic InRelease [21.3 kB]\n",
            "Get:19 http://security.ubuntu.com/ubuntu bionic-security/multiverse amd64 Packages [31.5 kB]\n",
            "Get:20 http://security.ubuntu.com/ubuntu bionic-security/main amd64 Packages [2,257 kB]\n",
            "Get:21 http://ppa.launchpad.net/c2d4u.team/c2d4u4.0+/ubuntu bionic/main Sources [1,785 kB]\n",
            "Get:22 http://security.ubuntu.com/ubuntu bionic-security/universe amd64 Packages [1,420 kB]\n",
            "Get:23 http://archive.ubuntu.com/ubuntu bionic-updates/restricted amd64 Packages [533 kB]\n",
            "Get:24 http://archive.ubuntu.com/ubuntu bionic-updates/multiverse amd64 Packages [38.7 kB]\n",
            "Get:25 http://archive.ubuntu.com/ubuntu bionic-updates/main amd64 Packages [2,693 kB]\n",
            "Get:26 http://ppa.launchpad.net/c2d4u.team/c2d4u4.0+/ubuntu bionic/main amd64 Packages [913 kB]\n",
            "Get:27 http://ppa.launchpad.net/graphics-drivers/ppa/ubuntu bionic/main amd64 Packages [44.1 kB]\n",
            "Fetched 13.4 MB in 7s (1,825 kB/s)\n",
            "Reading package lists... Done\n",
            "Building dependency tree       \n",
            "Reading state information... Done\n",
            "76 packages can be upgraded. Run 'apt list --upgradable' to see them.\n"
          ],
          "name": "stdout"
        }
      ]
    },
    {
      "cell_type": "code",
      "metadata": {
        "id": "OORgprK1qRdr"
      },
      "source": [
        "!apt-get install openjdk-8-jdk-headless -qq > /dev/null\n",
        "!wget -q https://downloads.apache.org/spark/spark-2.4.8/spark-2.4.8-bin-hadoop2.7.tgz\n",
        "!tar xf spark-2.4.8-bin-hadoop2.7.tgz\n",
        "!pip install -q findspark"
      ],
      "execution_count": 29,
      "outputs": []
    },
    {
      "cell_type": "code",
      "metadata": {
        "id": "lSh-fRQ1qUiX"
      },
      "source": [
        "import os\n",
        "os.environ[\"JAVA_HOME\"] = \"/usr/lib/jvm/java-1.8.0-openjdk-amd64\"\n",
        "os.environ[\"SPARK_HOME\"] = \"/content/spark-2.4.8-bin-hadoop2.7\""
      ],
      "execution_count": 30,
      "outputs": []
    },
    {
      "cell_type": "code",
      "metadata": {
        "id": "_6-Vj_qKqhTZ"
      },
      "source": [
        "import findspark\n",
        "findspark.init()"
      ],
      "execution_count": 31,
      "outputs": []
    },
    {
      "cell_type": "code",
      "metadata": {
        "id": "WyxynGUPqlkQ"
      },
      "source": [
        "import pyspark\n",
        "sc = pyspark.SparkContext('local[*]')"
      ],
      "execution_count": 32,
      "outputs": []
    },
    {
      "cell_type": "code",
      "metadata": {
        "id": "iAZPG8f8qnMX"
      },
      "source": [
        "# import necessary libraries\n",
        "from pyspark import SparkContext\n",
        "from pyspark.sql import SparkSession\n",
        "\n",
        "# instantiate SparkSession object\n",
        "spark = SparkSession.builder.master(\"local\").getOrCreate()"
      ],
      "execution_count": 33,
      "outputs": []
    },
    {
      "cell_type": "code",
      "metadata": {
        "id": "r3B1Gb6aqsAK"
      },
      "source": [
        "# read in the dataset into pyspark DataFrame\n",
        "movie_ratings = spark.read.csv('/content/ratings.csv', header='true', inferSchema='true')"
      ],
      "execution_count": 34,
      "outputs": []
    },
    {
      "cell_type": "code",
      "metadata": {
        "colab": {
          "base_uri": "https://localhost:8080/"
        },
        "id": "dwxMA8ujkRhl",
        "outputId": "cff5ac24-fbec-4573-cd9e-03b195dd6c3c"
      },
      "source": [
        "def get_mat_sparsity(ratings):\n",
        "    # Count the total number of ratings in the dataset\n",
        "    count_nonzero = ratings.select(\"rating\").count()\n",
        "\n",
        "    # Count the number of distinct userIds and distinct movieIds\n",
        "    total_elements = ratings.select(\"userId\").distinct().count() * ratings.select(\"movieId\").distinct().count()\n",
        "\n",
        "    # Divide the numerator by the denominator\n",
        "    sparsity = (1.0 - (count_nonzero *1.0)/total_elements)*100\n",
        "    print(\"The ratings dataframe is \", \"%.2f\" % sparsity + \"% sparse.\")\n",
        "    \n",
        "get_mat_sparsity(movie_ratings)"
      ],
      "execution_count": 35,
      "outputs": [
        {
          "output_type": "stream",
          "text": [
            "The ratings dataframe is  98.30% sparse.\n"
          ],
          "name": "stdout"
        }
      ]
    },
    {
      "cell_type": "code",
      "metadata": {
        "colab": {
          "base_uri": "https://localhost:8080/"
        },
        "id": "_MgOI0NSk4wS",
        "outputId": "4f1a20fd-eac4-4194-d9cb-16b0b5bff37d"
      },
      "source": [
        "# Group data by userId, count ratings\n",
        "userId_ratings = movie_ratings.groupBy(\"userId\").count().orderBy('count', ascending=False)\n",
        "userId_ratings.show()"
      ],
      "execution_count": 36,
      "outputs": [
        {
          "output_type": "stream",
          "text": [
            "+------+-----+\n",
            "|userId|count|\n",
            "+------+-----+\n",
            "|   414| 2698|\n",
            "|   599| 2478|\n",
            "|   474| 2108|\n",
            "|   448| 1864|\n",
            "|   274| 1346|\n",
            "|   610| 1302|\n",
            "|    68| 1260|\n",
            "|   380| 1218|\n",
            "|   606| 1115|\n",
            "|   288| 1055|\n",
            "|   249| 1046|\n",
            "|   387| 1027|\n",
            "|   182|  977|\n",
            "|   307|  975|\n",
            "|   603|  943|\n",
            "|   298|  939|\n",
            "|   177|  904|\n",
            "|   318|  879|\n",
            "|   232|  862|\n",
            "|   480|  836|\n",
            "+------+-----+\n",
            "only showing top 20 rows\n",
            "\n"
          ],
          "name": "stdout"
        }
      ]
    },
    {
      "cell_type": "code",
      "metadata": {
        "colab": {
          "base_uri": "https://localhost:8080/"
        },
        "id": "sihWmUOhk8Uo",
        "outputId": "3831071e-5b5d-4bf5-ff80-6828a2963588"
      },
      "source": [
        "# Group data by userId, count ratings\n",
        "movieId_ratings = movie_ratings.groupBy(\"movieId\").count().orderBy('count', ascending=False)\n",
        "movieId_ratings.show()"
      ],
      "execution_count": 37,
      "outputs": [
        {
          "output_type": "stream",
          "text": [
            "+-------+-----+\n",
            "|movieId|count|\n",
            "+-------+-----+\n",
            "|    356|  329|\n",
            "|    318|  317|\n",
            "|    296|  307|\n",
            "|    593|  279|\n",
            "|   2571|  278|\n",
            "|    260|  251|\n",
            "|    480|  238|\n",
            "|    110|  237|\n",
            "|    589|  224|\n",
            "|    527|  220|\n",
            "|   2959|  218|\n",
            "|      1|  215|\n",
            "|   1196|  211|\n",
            "|     50|  204|\n",
            "|   2858|  204|\n",
            "|     47|  203|\n",
            "|    780|  202|\n",
            "|    150|  201|\n",
            "|   1198|  200|\n",
            "|   4993|  198|\n",
            "+-------+-----+\n",
            "only showing top 20 rows\n",
            "\n"
          ],
          "name": "stdout"
        }
      ]
    },
    {
      "cell_type": "code",
      "metadata": {
        "id": "X7bHRYiDqva_",
        "colab": {
          "base_uri": "https://localhost:8080/"
        },
        "outputId": "61593cf6-a71c-4c94-e63e-d691af29e327"
      },
      "source": [
        "movie_ratings.dtypes"
      ],
      "execution_count": 38,
      "outputs": [
        {
          "output_type": "execute_result",
          "data": {
            "text/plain": [
              "[('userId', 'int'),\n",
              " ('movieId', 'int'),\n",
              " ('rating', 'double'),\n",
              " ('timestamp', 'int')]"
            ]
          },
          "metadata": {
            "tags": []
          },
          "execution_count": 38
        }
      ]
    },
    {
      "cell_type": "code",
      "metadata": {
        "id": "GTCX2X3Lqypg"
      },
      "source": [
        "movie_ratings = movie_ratings.drop('timestamp')"
      ],
      "execution_count": 39,
      "outputs": []
    },
    {
      "cell_type": "code",
      "metadata": {
        "id": "miy3RpYQq6gf"
      },
      "source": [
        "from pyspark.ml.evaluation import RegressionEvaluator\n",
        "\n",
        "from pyspark.ml.recommendation import ALS \n",
        "\n",
        "# split into training and testing sets\n",
        "(training, test) = movie_ratings.randomSplit([.8, .2])\n",
        "\n",
        "# Build the recommendation model using ALS on the training data\n",
        "# Note we set cold start strategy to 'drop' to ensure we don't get NaN evaluation metrics\n",
        "als = ALS(maxIter=5, rank=4, regParam=0.01, userCol='userId', itemCol='movieId', ratingCol='rating', coldStartStrategy='drop')\n",
        "\n",
        "# fit the ALS model to the training set\n",
        "model=als.fit(training)"
      ],
      "execution_count": 40,
      "outputs": []
    },
    {
      "cell_type": "code",
      "metadata": {
        "id": "tj3JqWTwq8rh",
        "colab": {
          "base_uri": "https://localhost:8080/"
        },
        "outputId": "b5c61fbf-0fa4-4552-8cab-0d5be0453e74"
      },
      "source": [
        "# Evaluate the model by computing the RMSE on the test data\n",
        "predictions = model.transform(test)\n",
        "evaluator = RegressionEvaluator(metricName='rmse', labelCol='rating', predictionCol='prediction')\n",
        "rmse = evaluator.evaluate(predictions)\n",
        "print(rmse)"
      ],
      "execution_count": 41,
      "outputs": [
        {
          "output_type": "stream",
          "text": [
            "0.9728398955299705\n"
          ],
          "name": "stdout"
        }
      ]
    },
    {
      "cell_type": "code",
      "metadata": {
        "id": "LxeRbsqonUac",
        "outputId": "86e3065f-232d-4647-aba4-526827d075b7",
        "colab": {
          "base_uri": "https://localhost:8080/"
        }
      },
      "source": [
        "test_predictions.show()"
      ],
      "execution_count": 49,
      "outputs": [
        {
          "output_type": "stream",
          "text": [
            "+------+-------+------+----------+\n",
            "|userId|movieId|rating|prediction|\n",
            "+------+-------+------+----------+\n",
            "|   597|    471|   2.0|  4.001458|\n",
            "|   385|    471|   4.0| 3.2350755|\n",
            "|   599|    471|   2.5|  2.712304|\n",
            "|   520|    471|   5.0| 3.3077674|\n",
            "|   216|    471|   3.0| 3.4027748|\n",
            "|   469|    471|   5.0| 3.5870197|\n",
            "|   492|    833|   4.0|  2.072132|\n",
            "|   463|   1088|   3.5| 3.0783813|\n",
            "|   599|   1088|   2.5| 2.4755034|\n",
            "|   594|   1088|   4.5| 4.2686963|\n",
            "|    84|   1088|   3.0| 3.2118673|\n",
            "|   188|   1088|   4.0| 3.5370748|\n",
            "|    68|   1088|   3.5| 3.3403766|\n",
            "|   483|   1088|   3.0| 3.0670218|\n",
            "|   587|   1238|   4.0| 3.4128103|\n",
            "|   325|   1238|   4.0| 4.2032304|\n",
            "|   156|   1238|   4.0| 3.8865485|\n",
            "|    19|   1342|   2.0|  2.297449|\n",
            "|   137|   1580|   3.5|  3.200812|\n",
            "|   593|   1580|   1.5| 2.7449996|\n",
            "+------+-------+------+----------+\n",
            "only showing top 20 rows\n",
            "\n"
          ],
          "name": "stdout"
        }
      ]
    },
    {
      "cell_type": "code",
      "metadata": {
        "id": "RErf4tvXrBFK",
        "colab": {
          "base_uri": "https://localhost:8080/"
        },
        "outputId": "ca2cfd2f-3e5d-49b6-d692-e26bf12e45ad"
      },
      "source": [
        "from pyspark.ml.tuning import CrossValidator, ParamGridBuilder\n",
        "\n",
        "# initialize the ALS model\n",
        "#als_model = ALS(userCol='userId', itemCol='movieId', ratingCol='rating', coldStartStrategy='drop')\n",
        "\n",
        "# create the parameter grid              \n",
        "#params = ParamGridBuilder().addGrid(als_model.regParam, [.01, .05, .1, .15]).addGrid(als_model.rank, [10, 50, 100, 150]).build()\n",
        "\n",
        "# instantiating crossvalidator estimator\n",
        "#cv = CrossValidator(estimator=als_model, estimatorParamMaps=params, evaluator=evaluator, parallelism=4)\n",
        "#best_model = cv.fit(movie_ratings)"
      ],
      "execution_count": 42,
      "outputs": [
        {
          "output_type": "execute_result",
          "data": {
            "text/plain": [
              "50"
            ]
          },
          "metadata": {
            "tags": []
          },
          "execution_count": 42
        }
      ]
    },
    {
      "cell_type": "code",
      "metadata": {
        "id": "j5dVsUpviay_"
      },
      "source": [
        "#model = best_model.bestModel"
      ],
      "execution_count": 44,
      "outputs": []
    },
    {
      "cell_type": "code",
      "metadata": {
        "id": "SfXhsHRXjN70",
        "outputId": "3c7bde65-a6c7-44cd-a37f-5e92e8f03547",
        "colab": {
          "base_uri": "https://localhost:8080/"
        }
      },
      "source": [
        "\n",
        "# Print best_model\n",
        "#print(type(model))\n",
        "\n",
        "# Complete the code below to extract the ALS model parameters\n",
        "#print(\"**Best Model**\")\n",
        "\n",
        "# # Print \"Rank\"\n",
        "#print(\"  Rank:\", model._java_obj.parent().getRank())\n",
        "\n",
        "# Print \"MaxIter\"\n",
        "#print(\"  MaxIter:\", model._java_obj.parent().getMaxIter())\n",
        "\n",
        "# Print \"RegParam\"\n",
        "#print(\"  RegParam:\", model._java_obj.parent().getRegParam())"
      ],
      "execution_count": 45,
      "outputs": [
        {
          "output_type": "stream",
          "text": [
            "<class 'pyspark.ml.recommendation.ALSModel'>\n",
            "**Best Model**\n",
            "  Rank: 50\n",
            "  MaxIter: 10\n",
            "  RegParam: 0.15\n"
          ],
          "name": "stdout"
        }
      ]
    },
    {
      "cell_type": "code",
      "metadata": {
        "id": "Vn-2r-6IjbkI"
      },
      "source": [
        "final_als = ALS(maxIter=10, rank=50, regParam=0.15, userCol='userId', itemCol='movieId', ratingCol='rating', coldStartStrategy='drop')\n",
        "final_model = final_als.fit(training)"
      ],
      "execution_count": 47,
      "outputs": []
    },
    {
      "cell_type": "code",
      "metadata": {
        "id": "VZCVO9WkkqlP",
        "outputId": "10959765-7733-475f-ee2f-217fc1b0a8c2",
        "colab": {
          "base_uri": "https://localhost:8080/"
        }
      },
      "source": [
        "test_predictions = final_model.transform(test)\n",
        "RMSE = evaluator.evaluate(test_predictions)\n",
        "print(RMSE)"
      ],
      "execution_count": 48,
      "outputs": [
        {
          "output_type": "stream",
          "text": [
            "0.8690776508705221\n"
          ],
          "name": "stdout"
        }
      ]
    },
    {
      "cell_type": "code",
      "metadata": {
        "id": "rW0hYOpXrduC",
        "colab": {
          "base_uri": "https://localhost:8080/"
        },
        "outputId": "d24cf63d-dbbb-43c5-ecf3-285bae35ea61"
      },
      "source": [
        "movie_titles = spark.read.csv('movies.csv', header='true', inferSchema='true')\n",
        "\n",
        "movie_titles.head(5)"
      ],
      "execution_count": null,
      "outputs": [
        {
          "output_type": "execute_result",
          "data": {
            "text/plain": [
              "[Row(movieId=1, title='Toy Story (1995)', genres='Adventure|Animation|Children|Comedy|Fantasy'),\n",
              " Row(movieId=2, title='Jumanji (1995)', genres='Adventure|Children|Fantasy'),\n",
              " Row(movieId=3, title='Grumpier Old Men (1995)', genres='Comedy|Romance'),\n",
              " Row(movieId=4, title='Waiting to Exhale (1995)', genres='Comedy|Drama|Romance'),\n",
              " Row(movieId=5, title='Father of the Bride Part II (1995)', genres='Comedy')]"
            ]
          },
          "metadata": {
            "tags": []
          },
          "execution_count": 60
        }
      ]
    },
    {
      "cell_type": "code",
      "metadata": {
        "id": "jj55VPpUttr8"
      },
      "source": [
        "def name_retriever(movie_id, movie_title_df):\n",
        "    return movie_title_df.where(movie_title_df.movieId == movie_id).take(1)[0]['title']"
      ],
      "execution_count": null,
      "outputs": []
    },
    {
      "cell_type": "code",
      "metadata": {
        "id": "Ky0JNtsPuP96",
        "colab": {
          "base_uri": "https://localhost:8080/"
        },
        "outputId": "bc5f431a-195b-4e30-e682-1cf9ac140cd7"
      },
      "source": [
        "print(name_retriever(1022, movie_titles))"
      ],
      "execution_count": null,
      "outputs": [
        {
          "output_type": "stream",
          "text": [
            "Cinderella (1950)\n"
          ],
          "name": "stdout"
        }
      ]
    },
    {
      "cell_type": "code",
      "metadata": {
        "id": "NKDugRMUuS4D"
      },
      "source": [
        "users = movie_ratings.select(als.getUserCol()).distinct().limit(1)\n",
        "userSubsetRecs = model.recommendForUserSubset(users, 10)\n",
        "recs = userSubsetRecs.take(1)"
      ],
      "execution_count": null,
      "outputs": []
    },
    {
      "cell_type": "code",
      "metadata": {
        "id": "9B_cq32_uadO",
        "colab": {
          "base_uri": "https://localhost:8080/",
          "height": 35
        },
        "outputId": "3ad6c0f4-d500-4b30-b2a9-5faaac8e506b"
      },
      "source": [
        "# use indexing to obtain the movie id of top predicted rated item\n",
        "first_recommendation = recs[0]['recommendations'][0][0]\n",
        "\n",
        "# use the name retriever function to get the values\n",
        "name_retriever(first_recommendation,movie_titles)"
      ],
      "execution_count": null,
      "outputs": [
        {
          "output_type": "execute_result",
          "data": {
            "application/vnd.google.colaboratory.intrinsic+json": {
              "type": "string"
            },
            "text/plain": [
              "'Farewell My Concubine (Ba wang bie ji) (1993)'"
            ]
          },
          "metadata": {
            "tags": []
          },
          "execution_count": 66
        }
      ]
    },
    {
      "cell_type": "code",
      "metadata": {
        "id": "_qkFYxoyuq1E",
        "colab": {
          "base_uri": "https://localhost:8080/"
        },
        "outputId": "56801e70-7895-4fd0-b669-c00e277a5071"
      },
      "source": [
        "recommendations = model.recommendForAllUsers(5)\n",
        "recommendations.where(recommendations.userId == 3).collect()"
      ],
      "execution_count": null,
      "outputs": [
        {
          "output_type": "execute_result",
          "data": {
            "text/plain": [
              "[Row(userId=3, recommendations=[Row(movieId=4248, rating=8.758819580078125), Row(movieId=3223, rating=7.480904579162598), Row(movieId=99764, rating=7.315658092498779), Row(movieId=93563, rating=6.8287787437438965), Row(movieId=1468, rating=6.746992111206055)])]"
            ]
          },
          "metadata": {
            "tags": []
          },
          "execution_count": 67
        }
      ]
    },
    {
      "cell_type": "code",
      "metadata": {
        "id": "Om9OEIi5utH6"
      },
      "source": [
        "def new_user_recs(user_id, new_ratings, rating_df, movie_title_df, num_recs):\n",
        "    # turn the new_recommendations list into a spark DataFrame\n",
        "  new_user_ratings = spark.createDataFrame(new_ratings, rating_df.columns)\n",
        "    \n",
        "    # combine the new ratings df with the rating_df\n",
        "  movie_ratings_combined = rating_df.union(new_user_ratings)\n",
        "    \n",
        "    # create an ALS model and fit it\n",
        "  als = ALS(maxIter=10, rank=50, regParam=0.15, userCol='userId', itemCol='movieId', ratingCol='rating', coldStartStrategy='drop')\n",
        "  model = als.fit(movie_ratings_combined)\n",
        "    \n",
        "    # make recommendations for all users using the recommendForAllUsers method\n",
        "  recommendations = model.recommendForAllUsers(num_recs)\n",
        "    \n",
        "    # get recommendations specifically for the new user that has been added to the DataFrame\n",
        "  recs_for_user = recommendations.where(recommendations.userId == user_id).take(1)\n",
        "\n",
        "  for ranking, (movie_id, rating) in enumerate(recs_for_user[0]['recommendations']):\n",
        "    movie_string = name_retriever(movie_id, movie_title_df)\n",
        "    print('Recommendation {}: {} | predicted score: {}'.format(ranking+1, movie_string, rating))"
      ],
      "execution_count": null,
      "outputs": []
    },
    {
      "cell_type": "code",
      "metadata": {
        "id": "o_ibtCk4uwxp",
        "colab": {
          "base_uri": "https://localhost:8080/"
        },
        "outputId": "64faa1ba-d56f-45c2-ba9e-c33227dc6a92"
      },
      "source": [
        "# try out your function with the movies listed above\n",
        "user_id = 1000\n",
        "user_ratings_1 = [(user_id, 3000, 5), (user_id, 2500, 5), (user_id, 2000, 4), (user_id, 1757, 6)]\n",
        "new_user_recs(user_id, user_ratings_1, movie_ratings, movie_titles, 10)"
      ],
      "execution_count": null,
      "outputs": [
        {
          "output_type": "stream",
          "text": [
            "Recommendation 1: Fallen Angels (Duo luo tian shi) (1995) | predicted score: 5.992415428161621\n",
            "Recommendation 2: Clockwork Orange, A (1971) | predicted score: 5.332775115966797\n",
            "Recommendation 3: Hustler, The (1961) | predicted score: 5.221590518951416\n",
            "Recommendation 4: Manhattan (1979) | predicted score: 5.212000846862793\n",
            "Recommendation 5: Monty Python and the Holy Grail (1975) | predicted score: 5.210682392120361\n",
            "Recommendation 6: Blue Velvet (1986) | predicted score: 5.173949718475342\n",
            "Recommendation 7: L.A. Confidential (1997) | predicted score: 5.124312400817871\n",
            "Recommendation 8: Seven Samurai (Shichinin no samurai) (1954) | predicted score: 5.099935531616211\n",
            "Recommendation 9: Ran (1985) | predicted score: 5.080130100250244\n",
            "Recommendation 10: Godfather, The (1972) | predicted score: 5.003494739532471\n"
          ],
          "name": "stdout"
        }
      ]
    },
    {
      "cell_type": "code",
      "metadata": {
        "id": "KAHwOl_zuzxi"
      },
      "source": [
        ""
      ],
      "execution_count": null,
      "outputs": []
    }
  ]
}